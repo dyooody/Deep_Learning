{
 "cells": [
  {
   "cell_type": "code",
   "execution_count": 1,
   "metadata": {},
   "outputs": [],
   "source": [
    "import numpy as np\n",
    "import pandas as pd\n",
    "import tensorflow as tf\n",
    "from tensorflow import keras\n",
    "import os, json, pathlib, shutil, PIL\n",
    "import itertools"
   ]
  },
  {
   "cell_type": "code",
   "execution_count": 2,
   "metadata": {},
   "outputs": [],
   "source": [
    "from tensorflow.keras.preprocessing.image import ImageDataGenerator\n",
    "from tensorflow.keras.preprocessing import image"
   ]
  },
  {
   "cell_type": "markdown",
   "metadata": {},
   "source": [
    "https://www.kaggle.com/datasets/masoudnickparvar/brain-tumor-mri-dataset"
   ]
  },
  {
   "cell_type": "code",
   "execution_count": 3,
   "metadata": {},
   "outputs": [],
   "source": [
    "from tensorflow.keras.applications.vgg16 import VGG16\n",
    "from tensorflow.keras.applications.densenet import DenseNet121"
   ]
  },
  {
   "cell_type": "code",
   "execution_count": 4,
   "metadata": {},
   "outputs": [
    {
     "data": {
      "text/plain": [
       "\"\\ndensenet_layer = DenseNet121(weights= 'imagenet', include_top= False, input_shape=(200, 200, 3))\\n\""
      ]
     },
     "execution_count": 4,
     "metadata": {},
     "output_type": "execute_result"
    }
   ],
   "source": [
    "vgg_layer = VGG16(weights= 'imagenet', include_top= False, input_shape=(224, 224, 3))\n",
    "'''\n",
    "densenet_layer = DenseNet121(weights= 'imagenet', include_top= False, input_shape=(200, 200, 3))\n",
    "'''"
   ]
  },
  {
   "cell_type": "code",
   "execution_count": 5,
   "metadata": {},
   "outputs": [
    {
     "name": "stdout",
     "output_type": "stream",
     "text": [
      "True\n"
     ]
    }
   ],
   "source": [
    "test_folder_dir = \"brain_tumor/Testing/\"\n",
    "train_folder_dir = \"brain_tumor/Training/\"\n",
    "test_file_dir = pathlib.Path(test_folder_dir)\n",
    "train_file_dir = pathlib.Path(train_folder_dir)\n",
    "print(train_file_dir.exists())"
   ]
  },
  {
   "cell_type": "code",
   "execution_count": 6,
   "metadata": {},
   "outputs": [
    {
     "name": "stdout",
     "output_type": "stream",
     "text": [
      "1311\n",
      "5712\n"
     ]
    }
   ],
   "source": [
    "test_img_cnt = len(list(test_file_dir.glob(\"*/*.jpg\")))\n",
    "train_img_cnt = len(list(train_file_dir.glob(\"*/*.jpg\")))\n",
    "print(test_img_cnt)\n",
    "print(train_img_cnt)"
   ]
  },
  {
   "cell_type": "code",
   "execution_count": 7,
   "metadata": {},
   "outputs": [
    {
     "name": "stdout",
     "output_type": "stream",
     "text": [
      "['glioma', 'meningioma', 'notumor', 'pituitary']\n"
     ]
    }
   ],
   "source": [
    "class_names = [name for name in os.listdir(test_folder_dir) if os.path.isdir(os.path.join(test_folder_dir, name))]\n",
    "print(class_names)"
   ]
  },
  {
   "cell_type": "code",
   "execution_count": 8,
   "metadata": {},
   "outputs": [],
   "source": [
    "#divide trian and validation data\n",
    "total_train_nums = []\n",
    "for class_name in class_names:\n",
    "  class_dir = pathlib.Path(train_folder_dir, class_name)\n",
    "  cl_length = len(list(class_dir.glob(\"*.jpg\")))\n",
    "  train_ratio = int(cl_length * 0.8)\n",
    "  valid_ratio = cl_length - train_ratio\n",
    "\n",
    "  nums = np.zeros(cl_length)\n",
    "  nums[:valid_ratio] = 1\n",
    "  np.random.shuffle(nums)\n",
    "  total_train_nums.append(list(nums))\n",
    "\n",
    "merged_nums = list(itertools.chain.from_iterable(total_train_nums))"
   ]
  },
  {
   "cell_type": "code",
   "execution_count": 9,
   "metadata": {},
   "outputs": [
    {
     "data": {
      "text/plain": [
       "5712"
      ]
     },
     "execution_count": 9,
     "metadata": {},
     "output_type": "execute_result"
    }
   ],
   "source": [
    "len(merged_nums)"
   ]
  },
  {
   "cell_type": "code",
   "execution_count": 10,
   "metadata": {},
   "outputs": [],
   "source": [
    "datagen = ImageDataGenerator(rescale=1./255)\n",
    "batch_size = 50"
   ]
  },
  {
   "cell_type": "code",
   "execution_count": 11,
   "metadata": {},
   "outputs": [
    {
     "name": "stdout",
     "output_type": "stream",
     "text": [
      "Found 1311 images belonging to 4 classes.\n",
      "Found 5712 images belonging to 4 classes.\n"
     ]
    }
   ],
   "source": [
    "test_generator = datagen.flow_from_directory(test_file_dir, target_size=(224,224), batch_size = batch_size, class_mode= 'categorical', shuffle=False)\n",
    "train_generator = datagen.flow_from_directory(train_file_dir, target_size=(224,224), batch_size = batch_size, class_mode= 'categorical', shuffle=False)\n",
    "\n",
    "test_filepaths = []\n",
    "for filepath in test_generator.filepaths:\n",
    "  test_filepaths.append(filepath)\n",
    "  \n",
    "test_filenames = []\n",
    "for filename in test_generator.filenames:\n",
    "  test_filenames.append(filename)\n",
    "\n",
    "train_filepaths = []\n",
    "for filepath in train_generator.filepaths:\n",
    "  train_filepaths.append(filepath)\n",
    "  \n",
    "train_filenames = []\n",
    "for filename in train_generator.filenames:\n",
    "  train_filenames.append(filename)"
   ]
  },
  {
   "cell_type": "code",
   "execution_count": 44,
   "metadata": {},
   "outputs": [],
   "source": [
    "ground_truth_label = []\n",
    "train_file_names = []\n",
    "for file in train_filenames:\n",
    "  f = file.split(\"\\\\\")\n",
    "  ground_truth_label.append(f[0])\n",
    "  train_file_names.append(f[1])\n",
    "\n",
    "test_ground_truth_label = []\n",
    "test_file_names = []\n",
    "for file in test_filenames:\n",
    "  f = file.split(\"\\\\\")\n",
    "  test_ground_truth_label.append(f[0])\n",
    "  test_file_names.append(f[1])\n",
    "\n",
    "train_index_list = list(range(0, train_img_cnt))\n",
    "test_index_list = list(range(0, test_img_cnt))"
   ]
  },
  {
   "cell_type": "code",
   "execution_count": 13,
   "metadata": {},
   "outputs": [],
   "source": [
    "def extract_features(generator, data_num, class_num, feature_shape, pretrained_model):\n",
    "  features = np.zeros(shape = feature_shape)\n",
    "  labels = np.zeros(shape=(data_num, class_num))\n",
    "  #generator = datagen.flow_from_directory(directory, target_size=(224, 224), batch_size = batch_size, class_mode= 'categorical', shuffle=False)\n",
    "  i = 0\n",
    "  for inputs_batch, labels_batch in generator:\n",
    "    features_batch = pretrained_model.predict(inputs_batch)\n",
    "    features[i * batch_size : (i+1) * batch_size] = features_batch\n",
    "    labels[i * batch_size : (i+1) * batch_size] = labels_batch\n",
    "    i += 1\n",
    "    if i * batch_size >= data_num:\n",
    "      break\n",
    "\n",
    "  return features, labels"
   ]
  },
  {
   "cell_type": "code",
   "execution_count": 14,
   "metadata": {},
   "outputs": [
    {
     "name": "stdout",
     "output_type": "stream",
     "text": [
      "final layer of VGG16 : <keras.layers.pooling.MaxPooling2D object at 0x00000215A3174448> and its shape : [None, 7, 7, 512]\n",
      "conv_base_shape :  [7, 7, 512]\n",
      "(5712, 7, 7, 512)\n",
      "(1311, 7, 7, 512)\n",
      "25088\n"
     ]
    }
   ],
   "source": [
    "vgg_final_layer = list(vgg_layer.layers)[-1].output_shape\n",
    "vgg_final_layer = list(vgg_final_layer)\n",
    "print(\"final layer of VGG16 : \" +  str(list(vgg_layer.layers)[-1]) + \" and its shape : \" + str(vgg_final_layer))\n",
    "\n",
    "vgg_conv_layers = []\n",
    "for l in range(len(vgg_layer.layers)):\n",
    "  layer = vgg_layer.layers[l]\n",
    "  if 'Conv' not in layer.__class__.__name__:\n",
    "    continue\n",
    "  vgg_conv_layers.append((layer.name, layer.output.shape))\n",
    "\n",
    "vgg_conv_base_shape = []\n",
    "for i in vgg_final_layer:\n",
    "  if i != None:\n",
    "    vgg_conv_base_shape.append(i)\n",
    "print(\"conv_base_shape : \", vgg_conv_base_shape)\n",
    "\n",
    "train_vgg_feat_shape = tuple([train_img_cnt] + vgg_conv_base_shape)\n",
    "print(train_vgg_feat_shape)\n",
    "\n",
    "test_vgg_feat_shape = tuple([test_img_cnt] + vgg_conv_base_shape)\n",
    "print(test_vgg_feat_shape)\n",
    "\n",
    "vgg_input_dimension = np.prod(vgg_conv_base_shape)\n",
    "print(vgg_input_dimension)"
   ]
  },
  {
   "cell_type": "code",
   "execution_count": 15,
   "metadata": {},
   "outputs": [],
   "source": [
    "train_vgg_features, train_vgg_labels = extract_features(train_generator, train_img_cnt, len(class_names), train_vgg_feat_shape, vgg_layer)"
   ]
  },
  {
   "cell_type": "code",
   "execution_count": 16,
   "metadata": {},
   "outputs": [],
   "source": [
    "test_vgg_features, test_vgg_labels = extract_features(test_generator, test_img_cnt, len(class_names), test_vgg_feat_shape, vgg_layer)"
   ]
  },
  {
   "cell_type": "code",
   "execution_count": 17,
   "metadata": {},
   "outputs": [],
   "source": [
    "from json import JSONEncoder\n",
    "class NumpyArrayEncoder(JSONEncoder):\n",
    "  def default(self, obj):\n",
    "    if isinstance(obj, np.ndarray):\n",
    "      return obj.tolist()\n",
    "    return JSONEncoder.default(self, obj)\n"
   ]
  },
  {
   "cell_type": "code",
   "execution_count": 18,
   "metadata": {},
   "outputs": [
    {
     "data": {
      "text/plain": [
       "'test_labels_int = []\\nfor idx in range(len(test_vgg_labels)):\\n  test_labels_int.append(np.argmax(test_vgg_labels[idx]))'"
      ]
     },
     "execution_count": 18,
     "metadata": {},
     "output_type": "execute_result"
    }
   ],
   "source": [
    "train_labels_int = []\n",
    "for idx in range(len(train_vgg_labels)):\n",
    "  train_labels_int.append(np.argmax(train_vgg_labels[idx]))\n",
    "\n",
    "'''test_labels_int = []\n",
    "for idx in range(len(test_vgg_labels)):\n",
    "  test_labels_int.append(np.argmax(test_vgg_labels[idx]))'''"
   ]
  },
  {
   "cell_type": "code",
   "execution_count": 19,
   "metadata": {},
   "outputs": [],
   "source": [
    "train_vgg_features = np.reshape(train_vgg_features, (train_img_cnt, vgg_input_dimension))\n",
    "test_vgg_features = np.reshape(test_vgg_features, (test_img_cnt, vgg_input_dimension))"
   ]
  },
  {
   "cell_type": "code",
   "execution_count": 20,
   "metadata": {},
   "outputs": [],
   "source": [
    "for idx in range(len(train_vgg_features)):\n",
    "  cur_fea = train_vgg_features[idx]\n",
    "  for j in range(len(cur_fea)):\n",
    "    if cur_fea[j] > 0.0:\n",
    "      cur_fea[j] = float(f\"{cur_fea[j]:.4f}\")\n",
    "\n",
    "for idx in range(len(test_vgg_features)):\n",
    "  cur_fea = test_vgg_features[idx]\n",
    "  for j in range(len(cur_fea)):\n",
    "    if cur_fea[j] > 0.0:\n",
    "      cur_fea[j] = float(f\"{cur_fea[j]:.4f}\")\n"
   ]
  },
  {
   "cell_type": "code",
   "execution_count": 21,
   "metadata": {},
   "outputs": [],
   "source": [
    "train_feas = {\"features\": train_vgg_features, \"labels\" : train_vgg_labels}\n",
    "with open(\"vgg_extracted_brain_tumor_train.json\", \"w\") as outfile:\n",
    "  json.dump(train_feas, outfile, cls=NumpyArrayEncoder)\n",
    "\n",
    "test_feas = {\"features\": test_vgg_features, \"labels\" : test_vgg_labels}\n",
    "with open(\"vgg_extracted_brain_tumor_test.json\", \"w\") as outfile:\n",
    "  json.dump(test_feas, outfile, cls=NumpyArrayEncoder)"
   ]
  },
  {
   "cell_type": "code",
   "execution_count": 22,
   "metadata": {},
   "outputs": [],
   "source": [
    "# Add classifier on pre-trained model\n",
    "vgg_model = keras.models.Sequential()\n",
    "#vgg_model.add(keras.layers.Reshape((vgg_input_dimension,), input_shape = tuple(vgg_conv_base_shape)))\n",
    "vgg_model.add(keras.layers.Dense(512, activation='relu', input_dim = vgg_input_dimension))\n",
    "vgg_model.add(keras.layers.Dense(512, activation='relu'))\n",
    "vgg_model.add(keras.layers.Dense(len(class_names), activation = 'softmax'))\n",
    "vgg_model.compile(optimizer=keras.optimizers.Adam(), loss='categorical_crossentropy', metrics=['accuracy'])"
   ]
  },
  {
   "cell_type": "code",
   "execution_count": 23,
   "metadata": {},
   "outputs": [],
   "source": [
    "pmt_order = np.random.permutation(np.arange(train_img_cnt))"
   ]
  },
  {
   "cell_type": "code",
   "execution_count": 42,
   "metadata": {},
   "outputs": [],
   "source": [
    "vgg_data_df = pd.DataFrame({'index': train_index_list, 'file_names': train_file_names, 'feature' : list(train_vgg_features), 'label' : list(train_vgg_labels), 'int_label' : train_labels_int, 'assign' : merged_nums})\n"
   ]
  },
  {
   "cell_type": "code",
   "execution_count": 45,
   "metadata": {},
   "outputs": [],
   "source": [
    "vgg_test_data_df = pd.DataFrame({'file_names': test_file_names, 'feature' : list(test_vgg_features), 'label' : list(test_vgg_labels)})"
   ]
  },
  {
   "cell_type": "code",
   "execution_count": 26,
   "metadata": {},
   "outputs": [
    {
     "data": {
      "text/html": [
       "<div>\n",
       "<style scoped>\n",
       "    .dataframe tbody tr th:only-of-type {\n",
       "        vertical-align: middle;\n",
       "    }\n",
       "\n",
       "    .dataframe tbody tr th {\n",
       "        vertical-align: top;\n",
       "    }\n",
       "\n",
       "    .dataframe thead th {\n",
       "        text-align: right;\n",
       "    }\n",
       "</style>\n",
       "<table border=\"1\" class=\"dataframe\">\n",
       "  <thead>\n",
       "    <tr style=\"text-align: right;\">\n",
       "      <th></th>\n",
       "      <th>index</th>\n",
       "      <th>file_names</th>\n",
       "      <th>feature</th>\n",
       "      <th>label</th>\n",
       "      <th>int_label</th>\n",
       "      <th>assign</th>\n",
       "    </tr>\n",
       "  </thead>\n",
       "  <tbody>\n",
       "    <tr>\n",
       "      <th>0</th>\n",
       "      <td>0</td>\n",
       "      <td>Tr-glTr_0000.jpg</td>\n",
       "      <td>[0.0831, 0.0, 0.0, 0.085, 0.1811, 0.0, 0.0, 0....</td>\n",
       "      <td>[1.0, 0.0, 0.0, 0.0]</td>\n",
       "      <td>0</td>\n",
       "      <td>0.0</td>\n",
       "    </tr>\n",
       "    <tr>\n",
       "      <th>1</th>\n",
       "      <td>1</td>\n",
       "      <td>Tr-glTr_0001.jpg</td>\n",
       "      <td>[0.05, 0.0, 0.0, 0.0506, 0.2202, 0.0, 0.0, 0.0...</td>\n",
       "      <td>[1.0, 0.0, 0.0, 0.0]</td>\n",
       "      <td>0</td>\n",
       "      <td>0.0</td>\n",
       "    </tr>\n",
       "    <tr>\n",
       "      <th>2</th>\n",
       "      <td>2</td>\n",
       "      <td>Tr-glTr_0002.jpg</td>\n",
       "      <td>[0.0387, 0.0, 0.0, 0.0575, 0.1709, 0.0, 0.0, 0...</td>\n",
       "      <td>[1.0, 0.0, 0.0, 0.0]</td>\n",
       "      <td>0</td>\n",
       "      <td>0.0</td>\n",
       "    </tr>\n",
       "    <tr>\n",
       "      <th>3</th>\n",
       "      <td>3</td>\n",
       "      <td>Tr-glTr_0003.jpg</td>\n",
       "      <td>[0.14, 0.0, 0.0, 0.0653, 0.0042, 0.0, 0.0, 0.0...</td>\n",
       "      <td>[1.0, 0.0, 0.0, 0.0]</td>\n",
       "      <td>0</td>\n",
       "      <td>0.0</td>\n",
       "    </tr>\n",
       "    <tr>\n",
       "      <th>4</th>\n",
       "      <td>4</td>\n",
       "      <td>Tr-glTr_0004.jpg</td>\n",
       "      <td>[0.2238, 0.0, 0.0, 0.0516, 0.0, 0.0, 0.0, 0.12...</td>\n",
       "      <td>[1.0, 0.0, 0.0, 0.0]</td>\n",
       "      <td>0</td>\n",
       "      <td>1.0</td>\n",
       "    </tr>\n",
       "    <tr>\n",
       "      <th>...</th>\n",
       "      <td>...</td>\n",
       "      <td>...</td>\n",
       "      <td>...</td>\n",
       "      <td>...</td>\n",
       "      <td>...</td>\n",
       "      <td>...</td>\n",
       "    </tr>\n",
       "    <tr>\n",
       "      <th>5707</th>\n",
       "      <td>5707</td>\n",
       "      <td>Tr-pi_1452.jpg</td>\n",
       "      <td>[0.1222, 0.0, 0.0, 0.0, 0.0, 0.0, 0.0, 0.5258,...</td>\n",
       "      <td>[0.0, 0.0, 0.0, 1.0]</td>\n",
       "      <td>3</td>\n",
       "      <td>1.0</td>\n",
       "    </tr>\n",
       "    <tr>\n",
       "      <th>5708</th>\n",
       "      <td>5708</td>\n",
       "      <td>Tr-pi_1453.jpg</td>\n",
       "      <td>[0.0884, 0.0, 0.0, 0.0, 0.0, 0.0, 0.0, 0.6972,...</td>\n",
       "      <td>[0.0, 0.0, 0.0, 1.0]</td>\n",
       "      <td>3</td>\n",
       "      <td>0.0</td>\n",
       "    </tr>\n",
       "    <tr>\n",
       "      <th>5709</th>\n",
       "      <td>5709</td>\n",
       "      <td>Tr-pi_1454.jpg</td>\n",
       "      <td>[0.0974, 0.0, 0.0, 0.0, 0.0, 0.0, 0.0, 0.5389,...</td>\n",
       "      <td>[0.0, 0.0, 0.0, 1.0]</td>\n",
       "      <td>3</td>\n",
       "      <td>0.0</td>\n",
       "    </tr>\n",
       "    <tr>\n",
       "      <th>5710</th>\n",
       "      <td>5710</td>\n",
       "      <td>Tr-pi_1455.jpg</td>\n",
       "      <td>[0.1804, 0.0, 0.0, 0.0, 0.0, 0.0, 0.0, 0.0975,...</td>\n",
       "      <td>[0.0, 0.0, 0.0, 1.0]</td>\n",
       "      <td>3</td>\n",
       "      <td>0.0</td>\n",
       "    </tr>\n",
       "    <tr>\n",
       "      <th>5711</th>\n",
       "      <td>5711</td>\n",
       "      <td>Tr-pi_1456.jpg</td>\n",
       "      <td>[0.098, 0.0, 0.0, 0.0, 0.041, 0.0, 0.0, 0.0, 0...</td>\n",
       "      <td>[0.0, 0.0, 0.0, 1.0]</td>\n",
       "      <td>3</td>\n",
       "      <td>0.0</td>\n",
       "    </tr>\n",
       "  </tbody>\n",
       "</table>\n",
       "<p>5712 rows × 6 columns</p>\n",
       "</div>"
      ],
      "text/plain": [
       "      index        file_names  \\\n",
       "0         0  Tr-glTr_0000.jpg   \n",
       "1         1  Tr-glTr_0001.jpg   \n",
       "2         2  Tr-glTr_0002.jpg   \n",
       "3         3  Tr-glTr_0003.jpg   \n",
       "4         4  Tr-glTr_0004.jpg   \n",
       "...     ...               ...   \n",
       "5707   5707    Tr-pi_1452.jpg   \n",
       "5708   5708    Tr-pi_1453.jpg   \n",
       "5709   5709    Tr-pi_1454.jpg   \n",
       "5710   5710    Tr-pi_1455.jpg   \n",
       "5711   5711    Tr-pi_1456.jpg   \n",
       "\n",
       "                                                feature                 label  \\\n",
       "0     [0.0831, 0.0, 0.0, 0.085, 0.1811, 0.0, 0.0, 0....  [1.0, 0.0, 0.0, 0.0]   \n",
       "1     [0.05, 0.0, 0.0, 0.0506, 0.2202, 0.0, 0.0, 0.0...  [1.0, 0.0, 0.0, 0.0]   \n",
       "2     [0.0387, 0.0, 0.0, 0.0575, 0.1709, 0.0, 0.0, 0...  [1.0, 0.0, 0.0, 0.0]   \n",
       "3     [0.14, 0.0, 0.0, 0.0653, 0.0042, 0.0, 0.0, 0.0...  [1.0, 0.0, 0.0, 0.0]   \n",
       "4     [0.2238, 0.0, 0.0, 0.0516, 0.0, 0.0, 0.0, 0.12...  [1.0, 0.0, 0.0, 0.0]   \n",
       "...                                                 ...                   ...   \n",
       "5707  [0.1222, 0.0, 0.0, 0.0, 0.0, 0.0, 0.0, 0.5258,...  [0.0, 0.0, 0.0, 1.0]   \n",
       "5708  [0.0884, 0.0, 0.0, 0.0, 0.0, 0.0, 0.0, 0.6972,...  [0.0, 0.0, 0.0, 1.0]   \n",
       "5709  [0.0974, 0.0, 0.0, 0.0, 0.0, 0.0, 0.0, 0.5389,...  [0.0, 0.0, 0.0, 1.0]   \n",
       "5710  [0.1804, 0.0, 0.0, 0.0, 0.0, 0.0, 0.0, 0.0975,...  [0.0, 0.0, 0.0, 1.0]   \n",
       "5711  [0.098, 0.0, 0.0, 0.0, 0.041, 0.0, 0.0, 0.0, 0...  [0.0, 0.0, 0.0, 1.0]   \n",
       "\n",
       "      int_label  assign  \n",
       "0             0     0.0  \n",
       "1             0     0.0  \n",
       "2             0     0.0  \n",
       "3             0     0.0  \n",
       "4             0     1.0  \n",
       "...         ...     ...  \n",
       "5707          3     1.0  \n",
       "5708          3     0.0  \n",
       "5709          3     0.0  \n",
       "5710          3     0.0  \n",
       "5711          3     0.0  \n",
       "\n",
       "[5712 rows x 6 columns]"
      ]
     },
     "execution_count": 26,
     "metadata": {},
     "output_type": "execute_result"
    }
   ],
   "source": [
    "vgg_data_df"
   ]
  },
  {
   "cell_type": "code",
   "execution_count": 27,
   "metadata": {},
   "outputs": [],
   "source": [
    "data_df_sf = vgg_data_df.iloc[pmt_order]"
   ]
  },
  {
   "cell_type": "code",
   "execution_count": 28,
   "metadata": {},
   "outputs": [
    {
     "data": {
      "text/html": [
       "<div>\n",
       "<style scoped>\n",
       "    .dataframe tbody tr th:only-of-type {\n",
       "        vertical-align: middle;\n",
       "    }\n",
       "\n",
       "    .dataframe tbody tr th {\n",
       "        vertical-align: top;\n",
       "    }\n",
       "\n",
       "    .dataframe thead th {\n",
       "        text-align: right;\n",
       "    }\n",
       "</style>\n",
       "<table border=\"1\" class=\"dataframe\">\n",
       "  <thead>\n",
       "    <tr style=\"text-align: right;\">\n",
       "      <th></th>\n",
       "      <th>index</th>\n",
       "      <th>file_names</th>\n",
       "      <th>feature</th>\n",
       "      <th>label</th>\n",
       "      <th>int_label</th>\n",
       "      <th>assign</th>\n",
       "    </tr>\n",
       "  </thead>\n",
       "  <tbody>\n",
       "    <tr>\n",
       "      <th>1303</th>\n",
       "      <td>1303</td>\n",
       "      <td>Tr-gl_1303.jpg</td>\n",
       "      <td>[0.0385, 0.0, 0.0, 0.0287, 0.2284, 0.0, 0.0, 0...</td>\n",
       "      <td>[1.0, 0.0, 0.0, 0.0]</td>\n",
       "      <td>0</td>\n",
       "      <td>0.0</td>\n",
       "    </tr>\n",
       "    <tr>\n",
       "      <th>4804</th>\n",
       "      <td>4804</td>\n",
       "      <td>Tr-pi_0549.jpg</td>\n",
       "      <td>[0.1716, 0.0, 0.0, 0.0, 0.0, 0.0, 0.0, 0.0, 0....</td>\n",
       "      <td>[0.0, 0.0, 0.0, 1.0]</td>\n",
       "      <td>3</td>\n",
       "      <td>1.0</td>\n",
       "    </tr>\n",
       "    <tr>\n",
       "      <th>2487</th>\n",
       "      <td>2487</td>\n",
       "      <td>Tr-me_1166.jpg</td>\n",
       "      <td>[0.0802, 0.0, 0.0, 0.0794, 0.1041, 0.0, 0.0, 0...</td>\n",
       "      <td>[0.0, 1.0, 0.0, 0.0]</td>\n",
       "      <td>1</td>\n",
       "      <td>0.0</td>\n",
       "    </tr>\n",
       "    <tr>\n",
       "      <th>2246</th>\n",
       "      <td>2246</td>\n",
       "      <td>Tr-me_0925.jpg</td>\n",
       "      <td>[0.0502, 0.0, 0.0, 0.0563, 0.0915, 0.0, 0.0, 0...</td>\n",
       "      <td>[0.0, 1.0, 0.0, 0.0]</td>\n",
       "      <td>1</td>\n",
       "      <td>0.0</td>\n",
       "    </tr>\n",
       "    <tr>\n",
       "      <th>5703</th>\n",
       "      <td>5703</td>\n",
       "      <td>Tr-pi_1448.jpg</td>\n",
       "      <td>[0.0, 0.0, 0.0, 0.0474, 0.0, 0.0, 0.0, 0.0, 0....</td>\n",
       "      <td>[0.0, 0.0, 0.0, 1.0]</td>\n",
       "      <td>3</td>\n",
       "      <td>0.0</td>\n",
       "    </tr>\n",
       "  </tbody>\n",
       "</table>\n",
       "</div>"
      ],
      "text/plain": [
       "      index      file_names  \\\n",
       "1303   1303  Tr-gl_1303.jpg   \n",
       "4804   4804  Tr-pi_0549.jpg   \n",
       "2487   2487  Tr-me_1166.jpg   \n",
       "2246   2246  Tr-me_0925.jpg   \n",
       "5703   5703  Tr-pi_1448.jpg   \n",
       "\n",
       "                                                feature                 label  \\\n",
       "1303  [0.0385, 0.0, 0.0, 0.0287, 0.2284, 0.0, 0.0, 0...  [1.0, 0.0, 0.0, 0.0]   \n",
       "4804  [0.1716, 0.0, 0.0, 0.0, 0.0, 0.0, 0.0, 0.0, 0....  [0.0, 0.0, 0.0, 1.0]   \n",
       "2487  [0.0802, 0.0, 0.0, 0.0794, 0.1041, 0.0, 0.0, 0...  [0.0, 1.0, 0.0, 0.0]   \n",
       "2246  [0.0502, 0.0, 0.0, 0.0563, 0.0915, 0.0, 0.0, 0...  [0.0, 1.0, 0.0, 0.0]   \n",
       "5703  [0.0, 0.0, 0.0, 0.0474, 0.0, 0.0, 0.0, 0.0, 0....  [0.0, 0.0, 0.0, 1.0]   \n",
       "\n",
       "      int_label  assign  \n",
       "1303          0     0.0  \n",
       "4804          3     1.0  \n",
       "2487          1     0.0  \n",
       "2246          1     0.0  \n",
       "5703          3     0.0  "
      ]
     },
     "execution_count": 28,
     "metadata": {},
     "output_type": "execute_result"
    }
   ],
   "source": [
    "data_df_sf.head()"
   ]
  },
  {
   "cell_type": "code",
   "execution_count": 29,
   "metadata": {},
   "outputs": [],
   "source": [
    "vgg_train_df = data_df_sf[data_df_sf['assign'] == 0]\n",
    "vgg_valid_df = data_df_sf[data_df_sf['assign'] == 1]"
   ]
  },
  {
   "cell_type": "code",
   "execution_count": 32,
   "metadata": {},
   "outputs": [],
   "source": [
    "vgg_train_features = list(vgg_train_df['feature'])\n",
    "vgg_train_labels = list(vgg_train_df['label'])\n",
    "\n",
    "vgg_train_features = np.reshape(vgg_train_features, (len(vgg_train_df), vgg_input_dimension))\n",
    "vgg_train_labels = np.reshape(vgg_train_labels, (len(vgg_train_df), len(class_names)))\n",
    "\n",
    "vgg_valid_features = list(vgg_valid_df['feature'])\n",
    "vgg_valid_labels = list(vgg_valid_df['label'])\n",
    "\n",
    "vgg_valid_features = np.reshape(vgg_valid_features, (len(vgg_valid_df), vgg_input_dimension))\n",
    "vgg_valid_labels = np.reshape(vgg_valid_labels, (len(vgg_valid_df), len(class_names)))"
   ]
  },
  {
   "cell_type": "code",
   "execution_count": 33,
   "metadata": {},
   "outputs": [
    {
     "name": "stdout",
     "output_type": "stream",
     "text": [
      "Epoch 1/12\n",
      "92/92 [==============================] - 10s 64ms/step - loss: 0.9583 - accuracy: 0.7570 - val_loss: 0.3412 - val_accuracy: 0.8654\n",
      "Epoch 2/12\n",
      "92/92 [==============================] - 6s 61ms/step - loss: 0.2220 - accuracy: 0.9179 - val_loss: 0.2332 - val_accuracy: 0.9161\n",
      "Epoch 3/12\n",
      "92/92 [==============================] - 6s 61ms/step - loss: 0.1255 - accuracy: 0.9523 - val_loss: 0.2106 - val_accuracy: 0.9283\n",
      "Epoch 4/12\n",
      "92/92 [==============================] - 6s 62ms/step - loss: 0.0772 - accuracy: 0.9735 - val_loss: 0.4595 - val_accuracy: 0.8724\n",
      "Epoch 5/12\n",
      "92/92 [==============================] - 6s 66ms/step - loss: 0.0647 - accuracy: 0.9735 - val_loss: 0.1889 - val_accuracy: 0.9406\n",
      "Epoch 6/12\n",
      "92/92 [==============================] - 6s 63ms/step - loss: 0.0414 - accuracy: 0.9836 - val_loss: 0.3657 - val_accuracy: 0.8890\n",
      "Epoch 7/12\n",
      "92/92 [==============================] - 6s 66ms/step - loss: 0.0569 - accuracy: 0.9805 - val_loss: 0.2055 - val_accuracy: 0.9344\n",
      "Epoch 8/12\n",
      "92/92 [==============================] - 6s 70ms/step - loss: 0.0098 - accuracy: 0.9978 - val_loss: 0.2233 - val_accuracy: 0.9379\n",
      "Epoch 9/12\n",
      "92/92 [==============================] - 6s 67ms/step - loss: 0.0020 - accuracy: 1.0000 - val_loss: 0.2446 - val_accuracy: 0.9362\n",
      "Epoch 10/12\n",
      "92/92 [==============================] - 6s 69ms/step - loss: 0.0015 - accuracy: 1.0000 - val_loss: 0.2138 - val_accuracy: 0.9467\n",
      "Epoch 11/12\n",
      "92/92 [==============================] - 6s 64ms/step - loss: 6.7136e-04 - accuracy: 1.0000 - val_loss: 0.2073 - val_accuracy: 0.9510\n",
      "Epoch 12/12\n",
      "92/92 [==============================] - 6s 69ms/step - loss: 4.8658e-04 - accuracy: 1.0000 - val_loss: 0.2206 - val_accuracy: 0.9484\n"
     ]
    }
   ],
   "source": [
    "vgg_train_history = vgg_model.fit(vgg_train_features, vgg_train_labels, epochs = 12, batch_size = batch_size, validation_data = (vgg_valid_features, vgg_valid_labels))"
   ]
  },
  {
   "cell_type": "code",
   "execution_count": 34,
   "metadata": {},
   "outputs": [
    {
     "name": "stdout",
     "output_type": "stream",
     "text": [
      "41/41 [==============================] - 1s 13ms/step - loss: 0.1411 - accuracy: 0.9672\n"
     ]
    }
   ],
   "source": [
    "vgg_loss, vgg_acc = vgg_model.evaluate(test_vgg_features, test_vgg_labels)"
   ]
  },
  {
   "cell_type": "code",
   "execution_count": 36,
   "metadata": {},
   "outputs": [],
   "source": [
    "vgg_test_prediction_score = vgg_model.predict(test_vgg_features)"
   ]
  },
  {
   "cell_type": "code",
   "execution_count": 37,
   "metadata": {},
   "outputs": [],
   "source": [
    "vgg_test_predicted_label = np.argmax(vgg_test_prediction_score, axis= -1)"
   ]
  },
  {
   "cell_type": "code",
   "execution_count": 47,
   "metadata": {},
   "outputs": [
    {
     "data": {
      "text/html": [
       "<div>\n",
       "<style scoped>\n",
       "    .dataframe tbody tr th:only-of-type {\n",
       "        vertical-align: middle;\n",
       "    }\n",
       "\n",
       "    .dataframe tbody tr th {\n",
       "        vertical-align: top;\n",
       "    }\n",
       "\n",
       "    .dataframe thead th {\n",
       "        text-align: right;\n",
       "    }\n",
       "</style>\n",
       "<table border=\"1\" class=\"dataframe\">\n",
       "  <thead>\n",
       "    <tr style=\"text-align: right;\">\n",
       "      <th></th>\n",
       "      <th>file_names</th>\n",
       "      <th>feature</th>\n",
       "      <th>label</th>\n",
       "    </tr>\n",
       "  </thead>\n",
       "  <tbody>\n",
       "    <tr>\n",
       "      <th>0</th>\n",
       "      <td>Te-glTr_0000.jpg</td>\n",
       "      <td>[0.0767, 0.0, 0.0, 0.032, 0.0858, 0.0, 0.0, 0....</td>\n",
       "      <td>[1.0, 0.0, 0.0, 0.0]</td>\n",
       "    </tr>\n",
       "    <tr>\n",
       "      <th>1</th>\n",
       "      <td>Te-glTr_0001.jpg</td>\n",
       "      <td>[0.1021, 0.0, 0.0, 0.028, 0.0209, 0.0, 0.0, 0....</td>\n",
       "      <td>[1.0, 0.0, 0.0, 0.0]</td>\n",
       "    </tr>\n",
       "    <tr>\n",
       "      <th>2</th>\n",
       "      <td>Te-glTr_0002.jpg</td>\n",
       "      <td>[0.0859, 0.0, 0.0, 0.0506, 0.2151, 0.0, 0.0, 0...</td>\n",
       "      <td>[1.0, 0.0, 0.0, 0.0]</td>\n",
       "    </tr>\n",
       "    <tr>\n",
       "      <th>3</th>\n",
       "      <td>Te-glTr_0003.jpg</td>\n",
       "      <td>[0.1153, 0.0, 0.0, 0.0458, 0.0999, 0.0, 0.0, 0...</td>\n",
       "      <td>[1.0, 0.0, 0.0, 0.0]</td>\n",
       "    </tr>\n",
       "    <tr>\n",
       "      <th>4</th>\n",
       "      <td>Te-glTr_0004.jpg</td>\n",
       "      <td>[0.0729, 0.0, 0.0, 0.0156, 0.058, 0.0, 0.0, 0....</td>\n",
       "      <td>[1.0, 0.0, 0.0, 0.0]</td>\n",
       "    </tr>\n",
       "    <tr>\n",
       "      <th>...</th>\n",
       "      <td>...</td>\n",
       "      <td>...</td>\n",
       "      <td>...</td>\n",
       "    </tr>\n",
       "    <tr>\n",
       "      <th>1306</th>\n",
       "      <td>Te-pi_0295.jpg</td>\n",
       "      <td>[0.0489, 0.0, 0.0, 0.0487, 0.0, 0.0, 0.0, 0.0,...</td>\n",
       "      <td>[0.0, 0.0, 0.0, 1.0]</td>\n",
       "    </tr>\n",
       "    <tr>\n",
       "      <th>1307</th>\n",
       "      <td>Te-pi_0296.jpg</td>\n",
       "      <td>[0.0037, 0.0, 0.0, 0.0209, 0.0, 0.0, 0.0, 0.0,...</td>\n",
       "      <td>[0.0, 0.0, 0.0, 1.0]</td>\n",
       "    </tr>\n",
       "    <tr>\n",
       "      <th>1308</th>\n",
       "      <td>Te-pi_0297.jpg</td>\n",
       "      <td>[0.0, 0.0, 0.0, 0.0, 0.0, 0.0, 0.0, 0.0836, 0....</td>\n",
       "      <td>[0.0, 0.0, 0.0, 1.0]</td>\n",
       "    </tr>\n",
       "    <tr>\n",
       "      <th>1309</th>\n",
       "      <td>Te-pi_0298.jpg</td>\n",
       "      <td>[0.0, 0.0, 0.0, 0.0, 0.0, 0.0, 0.0, 0.0, 0.0, ...</td>\n",
       "      <td>[0.0, 0.0, 0.0, 1.0]</td>\n",
       "    </tr>\n",
       "    <tr>\n",
       "      <th>1310</th>\n",
       "      <td>Te-pi_0299.jpg</td>\n",
       "      <td>[0.0933, 0.0, 0.0, 0.0, 0.0, 0.0, 0.0, 0.5927,...</td>\n",
       "      <td>[0.0, 0.0, 0.0, 1.0]</td>\n",
       "    </tr>\n",
       "  </tbody>\n",
       "</table>\n",
       "<p>1311 rows × 3 columns</p>\n",
       "</div>"
      ],
      "text/plain": [
       "            file_names                                            feature  \\\n",
       "0     Te-glTr_0000.jpg  [0.0767, 0.0, 0.0, 0.032, 0.0858, 0.0, 0.0, 0....   \n",
       "1     Te-glTr_0001.jpg  [0.1021, 0.0, 0.0, 0.028, 0.0209, 0.0, 0.0, 0....   \n",
       "2     Te-glTr_0002.jpg  [0.0859, 0.0, 0.0, 0.0506, 0.2151, 0.0, 0.0, 0...   \n",
       "3     Te-glTr_0003.jpg  [0.1153, 0.0, 0.0, 0.0458, 0.0999, 0.0, 0.0, 0...   \n",
       "4     Te-glTr_0004.jpg  [0.0729, 0.0, 0.0, 0.0156, 0.058, 0.0, 0.0, 0....   \n",
       "...                ...                                                ...   \n",
       "1306    Te-pi_0295.jpg  [0.0489, 0.0, 0.0, 0.0487, 0.0, 0.0, 0.0, 0.0,...   \n",
       "1307    Te-pi_0296.jpg  [0.0037, 0.0, 0.0, 0.0209, 0.0, 0.0, 0.0, 0.0,...   \n",
       "1308    Te-pi_0297.jpg  [0.0, 0.0, 0.0, 0.0, 0.0, 0.0, 0.0, 0.0836, 0....   \n",
       "1309    Te-pi_0298.jpg  [0.0, 0.0, 0.0, 0.0, 0.0, 0.0, 0.0, 0.0, 0.0, ...   \n",
       "1310    Te-pi_0299.jpg  [0.0933, 0.0, 0.0, 0.0, 0.0, 0.0, 0.0, 0.5927,...   \n",
       "\n",
       "                     label  \n",
       "0     [1.0, 0.0, 0.0, 0.0]  \n",
       "1     [1.0, 0.0, 0.0, 0.0]  \n",
       "2     [1.0, 0.0, 0.0, 0.0]  \n",
       "3     [1.0, 0.0, 0.0, 0.0]  \n",
       "4     [1.0, 0.0, 0.0, 0.0]  \n",
       "...                    ...  \n",
       "1306  [0.0, 0.0, 0.0, 1.0]  \n",
       "1307  [0.0, 0.0, 0.0, 1.0]  \n",
       "1308  [0.0, 0.0, 0.0, 1.0]  \n",
       "1309  [0.0, 0.0, 0.0, 1.0]  \n",
       "1310  [0.0, 0.0, 0.0, 1.0]  \n",
       "\n",
       "[1311 rows x 3 columns]"
      ]
     },
     "execution_count": 47,
     "metadata": {},
     "output_type": "execute_result"
    }
   ],
   "source": [
    "vgg_test_data_df"
   ]
  },
  {
   "cell_type": "code",
   "execution_count": 49,
   "metadata": {},
   "outputs": [],
   "source": [
    "test_result = {}\n",
    "test_result['filename'] = list(vgg_test_data_df['file_names'])\n",
    "#test_result['prediction_score'] = vgg_test_prediction_score\n",
    "test_result['predicted_label'] = vgg_test_predicted_label"
   ]
  },
  {
   "cell_type": "code",
   "execution_count": 50,
   "metadata": {},
   "outputs": [],
   "source": [
    "with open(\"vgg_result_brain_tumor.json\", \"w\") as outfile:\n",
    "  json.dump(test_result, outfile, indent=3, cls=NumpyArrayEncoder)"
   ]
  },
  {
   "cell_type": "code",
   "execution_count": null,
   "metadata": {},
   "outputs": [],
   "source": []
  },
  {
   "cell_type": "code",
   "execution_count": null,
   "metadata": {},
   "outputs": [],
   "source": []
  }
 ],
 "metadata": {
  "kernelspec": {
   "display_name": "Python 3.7.9 64-bit",
   "language": "python",
   "name": "python3"
  },
  "language_info": {
   "codemirror_mode": {
    "name": "ipython",
    "version": 3
   },
   "file_extension": ".py",
   "mimetype": "text/x-python",
   "name": "python",
   "nbconvert_exporter": "python",
   "pygments_lexer": "ipython3",
   "version": "3.7.9"
  },
  "orig_nbformat": 4,
  "vscode": {
   "interpreter": {
    "hash": "76ab9860aa67bcbf622fdb102e63207459bbb25b20412deafaf9e196d9ec0185"
   }
  }
 },
 "nbformat": 4,
 "nbformat_minor": 2
}
