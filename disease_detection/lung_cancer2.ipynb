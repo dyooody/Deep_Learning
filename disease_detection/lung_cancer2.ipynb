{
 "cells": [
  {
   "cell_type": "code",
   "execution_count": 1,
   "metadata": {},
   "outputs": [],
   "source": [
    "import numpy as np\n",
    "import pandas as pd\n",
    "import tensorflow as tf\n",
    "from tensorflow import keras\n",
    "import os, json, pathlib, shutil, PIL\n",
    "import matplotlib.pyplot as plt\n",
    "import cv2\n",
    "import itertools"
   ]
  },
  {
   "cell_type": "code",
   "execution_count": 2,
   "metadata": {},
   "outputs": [],
   "source": [
    "from tensorflow.keras.preprocessing.image import ImageDataGenerator\n",
    "from tensorflow.keras.preprocessing import image"
   ]
  },
  {
   "cell_type": "code",
   "execution_count": null,
   "metadata": {},
   "outputs": [],
   "source": []
  },
  {
   "cell_type": "markdown",
   "metadata": {},
   "source": [
    "https://www.kaggle.com/code/shadym0hamed/lung-cancer-classification/data"
   ]
  },
  {
   "cell_type": "code",
   "execution_count": 3,
   "metadata": {},
   "outputs": [],
   "source": [
    "from tensorflow.keras.applications.vgg16 import VGG16"
   ]
  },
  {
   "cell_type": "code",
   "execution_count": 4,
   "metadata": {},
   "outputs": [
    {
     "data": {
      "text/plain": [
       "\"resnet_layer = ResNet50V2(weights= 'imagenet', include_top= False, input_shape=(200, 200, 3))\\ninception_layer = InceptionV3(weights= 'imagenet', include_top= False, input_shape=(200, 200, 3))\\ndensenet_layer = DenseNet121(weights= 'imagenet', include_top= False, input_shape=(200, 200, 3))\\n\""
      ]
     },
     "execution_count": 4,
     "metadata": {},
     "output_type": "execute_result"
    }
   ],
   "source": [
    "vgg_layer = VGG16(weights= 'imagenet', include_top= False, input_shape=(224, 224, 3))"
   ]
  },
  {
   "cell_type": "code",
   "execution_count": 5,
   "metadata": {},
   "outputs": [
    {
     "name": "stdout",
     "output_type": "stream",
     "text": [
      "True\n"
     ]
    }
   ],
   "source": [
    "folder_dir = \"lung_cancer/Dataset/\"\n",
    "file_dir = pathlib.Path(folder_dir)\n",
    "print(file_dir.exists())"
   ]
  },
  {
   "cell_type": "code",
   "execution_count": 6,
   "metadata": {},
   "outputs": [
    {
     "name": "stdout",
     "output_type": "stream",
     "text": [
      "2002\n"
     ]
    }
   ],
   "source": [
    "total_img_cnt = len(list(file_dir.glob(\"*/*.jpg\")))\n",
    "print(total_img_cnt)"
   ]
  },
  {
   "cell_type": "code",
   "execution_count": 7,
   "metadata": {},
   "outputs": [
    {
     "name": "stdout",
     "output_type": "stream",
     "text": [
      "['Adeno', 'Carci', 'Normal', 'Squamos']\n"
     ]
    }
   ],
   "source": [
    "class_names = [name for name in os.listdir(folder_dir) if os.path.isdir(os.path.join(folder_dir, name))]\n",
    "print(class_names)"
   ]
  },
  {
   "cell_type": "code",
   "execution_count": 8,
   "metadata": {},
   "outputs": [],
   "source": [
    "total_nums = []\n",
    "for class_name in class_names:\n",
    "  class_dir = pathlib.Path(folder_dir, class_name)\n",
    "  #each_class_imgs = list(class_dir.glob(\"*.jpg\"))\n",
    "  cl_length = len(list(class_dir.glob(\"*.jpg\")))\n",
    "  train_ratio = int(cl_length * 0.7)\n",
    "  test_ratio = int(cl_length * 0.2)\n",
    "  valid_ratio = cl_length - (train_ratio + test_ratio)\n",
    "\n",
    "  nums = np.zeros(cl_length)\n",
    "  nums[:test_ratio] = 1\n",
    "  nums[test_ratio : test_ratio + valid_ratio] = 2\n",
    "  np.random.shuffle(nums)\n",
    "  total_nums.append(list(nums))\n",
    "\n",
    "merged_nums = list(itertools.chain.from_iterable(total_nums))"
   ]
  },
  {
   "cell_type": "code",
   "execution_count": 9,
   "metadata": {},
   "outputs": [
    {
     "data": {
      "text/plain": [
       "2002"
      ]
     },
     "execution_count": 9,
     "metadata": {},
     "output_type": "execute_result"
    }
   ],
   "source": [
    "len(merged_nums)"
   ]
  },
  {
   "cell_type": "code",
   "execution_count": 10,
   "metadata": {},
   "outputs": [],
   "source": [
    "datagen = ImageDataGenerator(rescale=1./255)\n",
    "batch_size = 32"
   ]
  },
  {
   "cell_type": "code",
   "execution_count": 11,
   "metadata": {},
   "outputs": [
    {
     "name": "stdout",
     "output_type": "stream",
     "text": [
      "Found 2002 images belonging to 4 classes.\n"
     ]
    }
   ],
   "source": [
    "generator = datagen.flow_from_directory(file_dir, target_size=(224,224), batch_size = batch_size, class_mode= 'categorical', shuffle=False)\n",
    "\n",
    "filepaths = []\n",
    "for filepath in generator.filepaths:\n",
    "  filepaths.append(filepath)\n",
    "  \n",
    "filenames = []\n",
    "for filename in generator.filenames:\n",
    "  filenames.append(filename)"
   ]
  },
  {
   "cell_type": "code",
   "execution_count": 12,
   "metadata": {},
   "outputs": [
    {
     "data": {
      "text/plain": [
       "2002"
      ]
     },
     "execution_count": 12,
     "metadata": {},
     "output_type": "execute_result"
    }
   ],
   "source": [
    "len(filenames)"
   ]
  },
  {
   "cell_type": "code",
   "execution_count": 13,
   "metadata": {},
   "outputs": [],
   "source": [
    "ground_truth_label = []\n",
    "file_names = []\n",
    "for file in filenames:\n",
    "  f = file.split(\"\\\\\")\n",
    "  ground_truth_label.append(f[0])\n",
    "  file_names.append(f[1])  \n",
    "\n",
    "index_list = list(range(0, total_img_cnt))"
   ]
  },
  {
   "cell_type": "code",
   "execution_count": 14,
   "metadata": {},
   "outputs": [],
   "source": [
    "def extract_features(generator, data_num, class_num, feature_shape, pretrained_model):\n",
    "  features = np.zeros(shape = feature_shape)\n",
    "  labels = np.zeros(shape=(data_num, class_num))\n",
    "  #generator = datagen.flow_from_directory(directory, target_size=(224, 224), batch_size = batch_size, class_mode= 'categorical', shuffle=False)\n",
    "  i = 0\n",
    "  for inputs_batch, labels_batch in generator:\n",
    "    features_batch = pretrained_model.predict(inputs_batch)\n",
    "    features[i * batch_size : (i+1) * batch_size] = features_batch\n",
    "    labels[i * batch_size : (i+1) * batch_size] = labels_batch\n",
    "    i += 1\n",
    "    if i * batch_size >= data_num:\n",
    "      break\n",
    "\n",
    "  return features, labels"
   ]
  },
  {
   "cell_type": "code",
   "execution_count": 15,
   "metadata": {},
   "outputs": [
    {
     "name": "stdout",
     "output_type": "stream",
     "text": [
      "final layer of VGG16 : <keras.layers.pooling.MaxPooling2D object at 0x00000176DA944F08> and its shape : [None, 7, 7, 512]\n",
      "conv_base_shape :  [7, 7, 512]\n",
      "(2002, 7, 7, 512)\n",
      "25088\n"
     ]
    }
   ],
   "source": [
    "vgg_final_layer = list(vgg_layer.layers)[-1].output_shape\n",
    "vgg_final_layer = list(vgg_final_layer)\n",
    "print(\"final layer of VGG16 : \" +  str(list(vgg_layer.layers)[-1]) + \" and its shape : \" + str(vgg_final_layer))\n",
    "\n",
    "vgg_conv_layers = []\n",
    "for l in range(len(vgg_layer.layers)):\n",
    "  layer = vgg_layer.layers[l]\n",
    "  if 'Conv' not in layer.__class__.__name__:\n",
    "    continue\n",
    "  vgg_conv_layers.append((layer.name, layer.output.shape))\n",
    "\n",
    "vgg_conv_base_shape = []\n",
    "for i in vgg_final_layer:\n",
    "  if i != None:\n",
    "    vgg_conv_base_shape.append(i)\n",
    "print(\"conv_base_shape : \", vgg_conv_base_shape)\n",
    "\n",
    "vgg_feat_shape = tuple([total_img_cnt] + vgg_conv_base_shape)\n",
    "print(vgg_feat_shape)\n",
    "\n",
    "vgg_input_dimension = np.prod(vgg_conv_base_shape)\n",
    "print(vgg_input_dimension)"
   ]
  },
  {
   "cell_type": "code",
   "execution_count": 16,
   "metadata": {},
   "outputs": [],
   "source": [
    "vgg_features, vgg_labels = extract_features(generator, total_img_cnt, len(class_names), vgg_feat_shape, vgg_layer)"
   ]
  },
  {
   "cell_type": "code",
   "execution_count": 17,
   "metadata": {},
   "outputs": [],
   "source": [
    "from json import JSONEncoder\n",
    "class NumpyArrayEncoder(JSONEncoder):\n",
    "  def default(self, obj):\n",
    "    if isinstance(obj, np.ndarray):\n",
    "      return obj.tolist()\n",
    "    return JSONEncoder.default(self, obj)\n"
   ]
  },
  {
   "cell_type": "code",
   "execution_count": 18,
   "metadata": {},
   "outputs": [],
   "source": [
    "total_labels_int = []\n",
    "for idx in range(len(vgg_labels)):\n",
    "  total_labels_int.append(np.argmax(vgg_labels[idx]))"
   ]
  },
  {
   "cell_type": "code",
   "execution_count": 19,
   "metadata": {},
   "outputs": [],
   "source": [
    "vgg_features = np.reshape(vgg_features, (total_img_cnt, vgg_input_dimension))"
   ]
  },
  {
   "cell_type": "code",
   "execution_count": 20,
   "metadata": {},
   "outputs": [
    {
     "data": {
      "text/plain": [
       "array([0.06951904, 0.        , 0.        , ..., 0.        , 0.89786679,\n",
       "       0.        ])"
      ]
     },
     "execution_count": 20,
     "metadata": {},
     "output_type": "execute_result"
    }
   ],
   "source": [
    "vgg_features[0]"
   ]
  },
  {
   "cell_type": "code",
   "execution_count": 21,
   "metadata": {},
   "outputs": [],
   "source": [
    "for idx in range(len(vgg_features)):\n",
    "  cur_fea = vgg_features[idx]\n",
    "  #cur_fea_2 = np.where(len(str(cur_fea)) > 3, cur_fea, f\"{cur_fea:.4f}\")\n",
    "  for j in range(len(cur_fea)):\n",
    "    if cur_fea[j] > 0.0:\n",
    "      cur_fea[j] = float(f\"{cur_fea[j]:.4f}\")\n"
   ]
  },
  {
   "cell_type": "code",
   "execution_count": 22,
   "metadata": {},
   "outputs": [],
   "source": [
    "total_feas = {\"features\": vgg_features, \"labels\" : vgg_labels}\n",
    "with open(\"vgg_extracted_lung_cancer.json\", \"w\") as outfile:\n",
    "  json.dump(total_feas, outfile, cls=NumpyArrayEncoder)"
   ]
  },
  {
   "cell_type": "code",
   "execution_count": 23,
   "metadata": {},
   "outputs": [],
   "source": [
    "models = []"
   ]
  },
  {
   "cell_type": "code",
   "execution_count": 24,
   "metadata": {},
   "outputs": [],
   "source": [
    "# Add classifier on pre-trained model\n",
    "vgg_model = keras.models.Sequential()\n",
    "#vgg_model.add(keras.layers.Reshape((vgg_input_dimension,), input_shape = tuple(vgg_conv_base_shape)))\n",
    "vgg_model.add(keras.layers.Dense(512, activation='relu', input_dim = vgg_input_dimension))\n",
    "vgg_model.add(keras.layers.Dense(512, activation='relu'))\n",
    "vgg_model.add(keras.layers.Dense(len(class_names), activation = 'softmax'))\n",
    "vgg_model.compile(optimizer=keras.optimizers.Adam(), loss='categorical_crossentropy', metrics=['accuracy'])\n",
    "\n",
    "models.append(vgg_model)"
   ]
  },
  {
   "cell_type": "code",
   "execution_count": 25,
   "metadata": {},
   "outputs": [
    {
     "name": "stdout",
     "output_type": "stream",
     "text": [
      "1401\n",
      "400\n",
      "201\n"
     ]
    }
   ],
   "source": [
    "nums = np.zeros(total_img_cnt)\n",
    "train_ratio = int(total_img_cnt * 0.7)\n",
    "test_ratio = int(total_img_cnt * 0.2)\n",
    "valid_ratio = total_img_cnt - (train_ratio + test_ratio)\n",
    "\n",
    "print(train_ratio)\n",
    "print(test_ratio)\n",
    "print(valid_ratio)\n",
    "\n",
    "nums[:test_ratio] = 1\n",
    "nums[test_ratio:test_ratio + valid_ratio] = 2\n",
    "np.random.shuffle(nums)\n",
    "\n",
    "\n",
    "pmt_order = np.random.permutation(np.arange(total_img_cnt))"
   ]
  },
  {
   "cell_type": "code",
   "execution_count": 26,
   "metadata": {},
   "outputs": [],
   "source": [
    "vgg_data_df = pd.DataFrame({'index': index_list, 'file_names': file_names, 'feature' : list(vgg_features), 'label' : list(vgg_labels), 'int_label' : total_labels_int, 'assign' : merged_nums})\n"
   ]
  },
  {
   "cell_type": "code",
   "execution_count": 27,
   "metadata": {},
   "outputs": [
    {
     "data": {
      "text/html": [
       "<div>\n",
       "<style scoped>\n",
       "    .dataframe tbody tr th:only-of-type {\n",
       "        vertical-align: middle;\n",
       "    }\n",
       "\n",
       "    .dataframe tbody tr th {\n",
       "        vertical-align: top;\n",
       "    }\n",
       "\n",
       "    .dataframe thead th {\n",
       "        text-align: right;\n",
       "    }\n",
       "</style>\n",
       "<table border=\"1\" class=\"dataframe\">\n",
       "  <thead>\n",
       "    <tr style=\"text-align: right;\">\n",
       "      <th></th>\n",
       "      <th>index</th>\n",
       "      <th>file_names</th>\n",
       "      <th>feature</th>\n",
       "      <th>label</th>\n",
       "      <th>int_label</th>\n",
       "      <th>assign</th>\n",
       "    </tr>\n",
       "  </thead>\n",
       "  <tbody>\n",
       "    <tr>\n",
       "      <th>0</th>\n",
       "      <td>0</td>\n",
       "      <td>1-01 (10).jpg</td>\n",
       "      <td>[0.0695, 0.0, 0.0, 0.0, 0.245, 0.0, 0.0, 0.0, ...</td>\n",
       "      <td>[1.0, 0.0, 0.0, 0.0]</td>\n",
       "      <td>0</td>\n",
       "      <td>0.0</td>\n",
       "    </tr>\n",
       "    <tr>\n",
       "      <th>1</th>\n",
       "      <td>1</td>\n",
       "      <td>1-01 (11).jpg</td>\n",
       "      <td>[0.0524, 0.0, 0.0, 0.0181, 0.2809, 0.0, 0.0, 0...</td>\n",
       "      <td>[1.0, 0.0, 0.0, 0.0]</td>\n",
       "      <td>0</td>\n",
       "      <td>2.0</td>\n",
       "    </tr>\n",
       "    <tr>\n",
       "      <th>2</th>\n",
       "      <td>2</td>\n",
       "      <td>1-01 (12).jpg</td>\n",
       "      <td>[0.3959, 0.0, 0.0, 0.0567, 0.1739, 0.0, 0.0, 0...</td>\n",
       "      <td>[1.0, 0.0, 0.0, 0.0]</td>\n",
       "      <td>0</td>\n",
       "      <td>0.0</td>\n",
       "    </tr>\n",
       "    <tr>\n",
       "      <th>3</th>\n",
       "      <td>3</td>\n",
       "      <td>1-01 (13).jpg</td>\n",
       "      <td>[0.0, 0.0, 0.0, 0.0, 0.0, 0.0, 0.0, 0.0, 0.0, ...</td>\n",
       "      <td>[1.0, 0.0, 0.0, 0.0]</td>\n",
       "      <td>0</td>\n",
       "      <td>1.0</td>\n",
       "    </tr>\n",
       "    <tr>\n",
       "      <th>4</th>\n",
       "      <td>4</td>\n",
       "      <td>1-01.jpg</td>\n",
       "      <td>[0.1423, 0.0, 0.0, 0.0664, 0.3667, 0.0, 0.0, 0...</td>\n",
       "      <td>[1.0, 0.0, 0.0, 0.0]</td>\n",
       "      <td>0</td>\n",
       "      <td>1.0</td>\n",
       "    </tr>\n",
       "    <tr>\n",
       "      <th>...</th>\n",
       "      <td>...</td>\n",
       "      <td>...</td>\n",
       "      <td>...</td>\n",
       "      <td>...</td>\n",
       "      <td>...</td>\n",
       "      <td>...</td>\n",
       "    </tr>\n",
       "    <tr>\n",
       "      <th>1997</th>\n",
       "      <td>1997</td>\n",
       "      <td>1-86.jpg</td>\n",
       "      <td>[0.2823, 0.0, 0.0, 0.0063, 0.0, 0.0, 0.0, 0.0,...</td>\n",
       "      <td>[0.0, 0.0, 0.0, 1.0]</td>\n",
       "      <td>3</td>\n",
       "      <td>1.0</td>\n",
       "    </tr>\n",
       "    <tr>\n",
       "      <th>1998</th>\n",
       "      <td>1998</td>\n",
       "      <td>1-87.jpg</td>\n",
       "      <td>[0.2797, 0.0, 0.0, 0.0018, 0.0, 0.0, 0.0, 0.0,...</td>\n",
       "      <td>[0.0, 0.0, 0.0, 1.0]</td>\n",
       "      <td>3</td>\n",
       "      <td>0.0</td>\n",
       "    </tr>\n",
       "    <tr>\n",
       "      <th>1999</th>\n",
       "      <td>1999</td>\n",
       "      <td>1-88.jpg</td>\n",
       "      <td>[0.2592, 0.0, 0.0, 0.0145, 0.0, 0.0, 0.0, 0.0,...</td>\n",
       "      <td>[0.0, 0.0, 0.0, 1.0]</td>\n",
       "      <td>3</td>\n",
       "      <td>0.0</td>\n",
       "    </tr>\n",
       "    <tr>\n",
       "      <th>2000</th>\n",
       "      <td>2000</td>\n",
       "      <td>2-1 (2).jpg</td>\n",
       "      <td>[0.1332, 0.0, 0.0, 0.0, 0.0581, 0.0, 0.0, 0.0,...</td>\n",
       "      <td>[0.0, 0.0, 0.0, 1.0]</td>\n",
       "      <td>3</td>\n",
       "      <td>2.0</td>\n",
       "    </tr>\n",
       "    <tr>\n",
       "      <th>2001</th>\n",
       "      <td>2001</td>\n",
       "      <td>2-1.jpg</td>\n",
       "      <td>[0.262, 0.0, 0.0, 0.0, 0.0722, 0.0, 0.0, 0.0, ...</td>\n",
       "      <td>[0.0, 0.0, 0.0, 1.0]</td>\n",
       "      <td>3</td>\n",
       "      <td>2.0</td>\n",
       "    </tr>\n",
       "  </tbody>\n",
       "</table>\n",
       "<p>2002 rows × 6 columns</p>\n",
       "</div>"
      ],
      "text/plain": [
       "      index     file_names                                            feature  \\\n",
       "0         0  1-01 (10).jpg  [0.0695, 0.0, 0.0, 0.0, 0.245, 0.0, 0.0, 0.0, ...   \n",
       "1         1  1-01 (11).jpg  [0.0524, 0.0, 0.0, 0.0181, 0.2809, 0.0, 0.0, 0...   \n",
       "2         2  1-01 (12).jpg  [0.3959, 0.0, 0.0, 0.0567, 0.1739, 0.0, 0.0, 0...   \n",
       "3         3  1-01 (13).jpg  [0.0, 0.0, 0.0, 0.0, 0.0, 0.0, 0.0, 0.0, 0.0, ...   \n",
       "4         4       1-01.jpg  [0.1423, 0.0, 0.0, 0.0664, 0.3667, 0.0, 0.0, 0...   \n",
       "...     ...            ...                                                ...   \n",
       "1997   1997       1-86.jpg  [0.2823, 0.0, 0.0, 0.0063, 0.0, 0.0, 0.0, 0.0,...   \n",
       "1998   1998       1-87.jpg  [0.2797, 0.0, 0.0, 0.0018, 0.0, 0.0, 0.0, 0.0,...   \n",
       "1999   1999       1-88.jpg  [0.2592, 0.0, 0.0, 0.0145, 0.0, 0.0, 0.0, 0.0,...   \n",
       "2000   2000    2-1 (2).jpg  [0.1332, 0.0, 0.0, 0.0, 0.0581, 0.0, 0.0, 0.0,...   \n",
       "2001   2001        2-1.jpg  [0.262, 0.0, 0.0, 0.0, 0.0722, 0.0, 0.0, 0.0, ...   \n",
       "\n",
       "                     label  int_label  assign  \n",
       "0     [1.0, 0.0, 0.0, 0.0]          0     0.0  \n",
       "1     [1.0, 0.0, 0.0, 0.0]          0     2.0  \n",
       "2     [1.0, 0.0, 0.0, 0.0]          0     0.0  \n",
       "3     [1.0, 0.0, 0.0, 0.0]          0     1.0  \n",
       "4     [1.0, 0.0, 0.0, 0.0]          0     1.0  \n",
       "...                    ...        ...     ...  \n",
       "1997  [0.0, 0.0, 0.0, 1.0]          3     1.0  \n",
       "1998  [0.0, 0.0, 0.0, 1.0]          3     0.0  \n",
       "1999  [0.0, 0.0, 0.0, 1.0]          3     0.0  \n",
       "2000  [0.0, 0.0, 0.0, 1.0]          3     2.0  \n",
       "2001  [0.0, 0.0, 0.0, 1.0]          3     2.0  \n",
       "\n",
       "[2002 rows x 6 columns]"
      ]
     },
     "execution_count": 27,
     "metadata": {},
     "output_type": "execute_result"
    }
   ],
   "source": [
    "vgg_data_df"
   ]
  },
  {
   "cell_type": "code",
   "execution_count": 28,
   "metadata": {},
   "outputs": [],
   "source": [
    "data_df_sf = vgg_data_df.iloc[pmt_order]"
   ]
  },
  {
   "cell_type": "code",
   "execution_count": 29,
   "metadata": {},
   "outputs": [
    {
     "data": {
      "text/html": [
       "<div>\n",
       "<style scoped>\n",
       "    .dataframe tbody tr th:only-of-type {\n",
       "        vertical-align: middle;\n",
       "    }\n",
       "\n",
       "    .dataframe tbody tr th {\n",
       "        vertical-align: top;\n",
       "    }\n",
       "\n",
       "    .dataframe thead th {\n",
       "        text-align: right;\n",
       "    }\n",
       "</style>\n",
       "<table border=\"1\" class=\"dataframe\">\n",
       "  <thead>\n",
       "    <tr style=\"text-align: right;\">\n",
       "      <th></th>\n",
       "      <th>index</th>\n",
       "      <th>file_names</th>\n",
       "      <th>feature</th>\n",
       "      <th>label</th>\n",
       "      <th>int_label</th>\n",
       "      <th>assign</th>\n",
       "    </tr>\n",
       "  </thead>\n",
       "  <tbody>\n",
       "    <tr>\n",
       "      <th>1892</th>\n",
       "      <td>1892</td>\n",
       "      <td>1-440.jpg</td>\n",
       "      <td>[0.0, 0.0, 0.0, 0.0, 0.0, 0.0, 0.0, 0.0, 0.0, ...</td>\n",
       "      <td>[0.0, 0.0, 0.0, 1.0]</td>\n",
       "      <td>3</td>\n",
       "      <td>0.0</td>\n",
       "    </tr>\n",
       "    <tr>\n",
       "      <th>1353</th>\n",
       "      <td>1353</td>\n",
       "      <td>6 (3) - Copy.jpg</td>\n",
       "      <td>[0.2611, 0.0, 0.0, 0.0, 0.0026, 0.0, 0.0, 0.0,...</td>\n",
       "      <td>[0.0, 0.0, 1.0, 0.0]</td>\n",
       "      <td>2</td>\n",
       "      <td>0.0</td>\n",
       "    </tr>\n",
       "    <tr>\n",
       "      <th>307</th>\n",
       "      <td>307</td>\n",
       "      <td>1-29 (6).jpg</td>\n",
       "      <td>[0.0589, 0.0, 0.0, 0.019, 0.3036, 0.0, 0.0, 0....</td>\n",
       "      <td>[1.0, 0.0, 0.0, 0.0]</td>\n",
       "      <td>0</td>\n",
       "      <td>1.0</td>\n",
       "    </tr>\n",
       "    <tr>\n",
       "      <th>323</th>\n",
       "      <td>323</td>\n",
       "      <td>1-31 (5).jpg</td>\n",
       "      <td>[0.0809, 0.0, 0.0, 0.0, 0.0, 0.0, 0.0, 0.0, 0....</td>\n",
       "      <td>[1.0, 0.0, 0.0, 0.0]</td>\n",
       "      <td>0</td>\n",
       "      <td>0.0</td>\n",
       "    </tr>\n",
       "    <tr>\n",
       "      <th>1893</th>\n",
       "      <td>1893</td>\n",
       "      <td>1-441.jpg</td>\n",
       "      <td>[0.0, 0.0, 0.0, 0.0, 0.0, 0.0, 0.0, 0.0, 0.0, ...</td>\n",
       "      <td>[0.0, 0.0, 0.0, 1.0]</td>\n",
       "      <td>3</td>\n",
       "      <td>0.0</td>\n",
       "    </tr>\n",
       "  </tbody>\n",
       "</table>\n",
       "</div>"
      ],
      "text/plain": [
       "      index        file_names  \\\n",
       "1892   1892         1-440.jpg   \n",
       "1353   1353  6 (3) - Copy.jpg   \n",
       "307     307      1-29 (6).jpg   \n",
       "323     323      1-31 (5).jpg   \n",
       "1893   1893         1-441.jpg   \n",
       "\n",
       "                                                feature                 label  \\\n",
       "1892  [0.0, 0.0, 0.0, 0.0, 0.0, 0.0, 0.0, 0.0, 0.0, ...  [0.0, 0.0, 0.0, 1.0]   \n",
       "1353  [0.2611, 0.0, 0.0, 0.0, 0.0026, 0.0, 0.0, 0.0,...  [0.0, 0.0, 1.0, 0.0]   \n",
       "307   [0.0589, 0.0, 0.0, 0.019, 0.3036, 0.0, 0.0, 0....  [1.0, 0.0, 0.0, 0.0]   \n",
       "323   [0.0809, 0.0, 0.0, 0.0, 0.0, 0.0, 0.0, 0.0, 0....  [1.0, 0.0, 0.0, 0.0]   \n",
       "1893  [0.0, 0.0, 0.0, 0.0, 0.0, 0.0, 0.0, 0.0, 0.0, ...  [0.0, 0.0, 0.0, 1.0]   \n",
       "\n",
       "      int_label  assign  \n",
       "1892          3     0.0  \n",
       "1353          2     0.0  \n",
       "307           0     1.0  \n",
       "323           0     0.0  \n",
       "1893          3     0.0  "
      ]
     },
     "execution_count": 29,
     "metadata": {},
     "output_type": "execute_result"
    }
   ],
   "source": [
    "data_df_sf.head()"
   ]
  },
  {
   "cell_type": "code",
   "execution_count": 30,
   "metadata": {},
   "outputs": [],
   "source": [
    "vgg_train_df = data_df_sf[data_df_sf['assign'] == 0]\n",
    "vgg_test_df = data_df_sf[data_df_sf['assign'] == 1]\n",
    "vgg_valid_df = data_df_sf[data_df_sf['assign'] == 2]"
   ]
  },
  {
   "cell_type": "code",
   "execution_count": 31,
   "metadata": {},
   "outputs": [],
   "source": [
    "vgg_train_features = list(vgg_train_df['feature'])\n",
    "vgg_train_labels = list(vgg_train_df['label'])\n",
    "\n",
    "vgg_train_features = np.reshape(vgg_train_features, (len(vgg_train_df), vgg_input_dimension))\n",
    "vgg_train_labels = np.reshape(vgg_train_labels, (len(vgg_train_df), len(class_names)))\n",
    "\n",
    "vgg_test_features = list(vgg_test_df['feature'])\n",
    "vgg_test_labels = list(vgg_test_df['label'])\n",
    "\n",
    "vgg_test_features = np.reshape(vgg_test_features, (len(vgg_test_df), vgg_input_dimension))\n",
    "vgg_test_labels = np.reshape(vgg_test_labels, (len(vgg_test_df), len(class_names)))\n",
    "\n",
    "vgg_valid_features = list(vgg_valid_df['feature'])\n",
    "vgg_valid_labels = list(vgg_valid_df['label'])\n",
    "\n",
    "vgg_valid_features = np.reshape(vgg_valid_features, (len(vgg_valid_df), vgg_input_dimension))\n",
    "vgg_valid_labels = np.reshape(vgg_valid_labels, (len(vgg_valid_df), len(class_names)))"
   ]
  },
  {
   "cell_type": "code",
   "execution_count": 32,
   "metadata": {},
   "outputs": [
    {
     "name": "stdout",
     "output_type": "stream",
     "text": [
      "Epoch 1/5\n",
      "44/44 [==============================] - 3s 65ms/step - loss: 0.4648 - accuracy: 0.9078 - val_loss: 0.0612 - val_accuracy: 0.9902\n",
      "Epoch 2/5\n",
      "44/44 [==============================] - 3s 71ms/step - loss: 0.0044 - accuracy: 0.9986 - val_loss: 0.0471 - val_accuracy: 0.9902\n",
      "Epoch 3/5\n",
      "44/44 [==============================] - 2s 56ms/step - loss: 9.7615e-04 - accuracy: 1.0000 - val_loss: 0.0514 - val_accuracy: 0.9902\n",
      "Epoch 4/5\n",
      "44/44 [==============================] - 3s 65ms/step - loss: 6.0143e-05 - accuracy: 1.0000 - val_loss: 0.0507 - val_accuracy: 0.9902\n",
      "Epoch 5/5\n",
      "44/44 [==============================] - 3s 64ms/step - loss: 4.0145e-05 - accuracy: 1.0000 - val_loss: 0.0547 - val_accuracy: 0.9902\n"
     ]
    }
   ],
   "source": [
    "vgg_train_history = vgg_model.fit(vgg_train_features, vgg_train_labels, epochs = 5, batch_size = batch_size, validation_data = (vgg_valid_features, vgg_valid_labels))"
   ]
  },
  {
   "cell_type": "code",
   "execution_count": 33,
   "metadata": {},
   "outputs": [
    {
     "name": "stdout",
     "output_type": "stream",
     "text": [
      "13/13 [==============================] - 0s 13ms/step - loss: 2.2830e-05 - accuracy: 1.0000\n"
     ]
    }
   ],
   "source": [
    "vgg_loss, vgg_acc = vgg_model.evaluate(vgg_test_features, vgg_test_labels)"
   ]
  },
  {
   "cell_type": "code",
   "execution_count": 34,
   "metadata": {},
   "outputs": [],
   "source": [
    "vgg_test_prediction_score = vgg_model.predict(vgg_test_features)"
   ]
  },
  {
   "cell_type": "code",
   "execution_count": 35,
   "metadata": {},
   "outputs": [],
   "source": [
    "vgg_test_predicted_label = np.argmax(vgg_test_prediction_score, axis= -1)"
   ]
  },
  {
   "cell_type": "code",
   "execution_count": 36,
   "metadata": {},
   "outputs": [
    {
     "data": {
      "text/html": [
       "<div>\n",
       "<style scoped>\n",
       "    .dataframe tbody tr th:only-of-type {\n",
       "        vertical-align: middle;\n",
       "    }\n",
       "\n",
       "    .dataframe tbody tr th {\n",
       "        vertical-align: top;\n",
       "    }\n",
       "\n",
       "    .dataframe thead th {\n",
       "        text-align: right;\n",
       "    }\n",
       "</style>\n",
       "<table border=\"1\" class=\"dataframe\">\n",
       "  <thead>\n",
       "    <tr style=\"text-align: right;\">\n",
       "      <th></th>\n",
       "      <th>index</th>\n",
       "      <th>file_names</th>\n",
       "      <th>feature</th>\n",
       "      <th>label</th>\n",
       "      <th>int_label</th>\n",
       "      <th>assign</th>\n",
       "    </tr>\n",
       "  </thead>\n",
       "  <tbody>\n",
       "    <tr>\n",
       "      <th>307</th>\n",
       "      <td>307</td>\n",
       "      <td>1-29 (6).jpg</td>\n",
       "      <td>[0.0589, 0.0, 0.0, 0.019, 0.3036, 0.0, 0.0, 0....</td>\n",
       "      <td>[1.0, 0.0, 0.0, 0.0]</td>\n",
       "      <td>0</td>\n",
       "      <td>1.0</td>\n",
       "    </tr>\n",
       "    <tr>\n",
       "      <th>1778</th>\n",
       "      <td>1778</td>\n",
       "      <td>1-337.jpg</td>\n",
       "      <td>[0.0807, 0.0, 0.0, 0.0, 0.0, 0.0, 0.0, 0.0, 0....</td>\n",
       "      <td>[0.0, 0.0, 0.0, 1.0]</td>\n",
       "      <td>3</td>\n",
       "      <td>1.0</td>\n",
       "    </tr>\n",
       "    <tr>\n",
       "      <th>1339</th>\n",
       "      <td>1339</td>\n",
       "      <td>4 - Copy - Copy.jpg</td>\n",
       "      <td>[0.0, 0.0, 0.0, 0.0, 0.0, 0.0, 0.0, 0.0, 0.0, ...</td>\n",
       "      <td>[0.0, 0.0, 1.0, 0.0]</td>\n",
       "      <td>2</td>\n",
       "      <td>1.0</td>\n",
       "    </tr>\n",
       "    <tr>\n",
       "      <th>1645</th>\n",
       "      <td>1645</td>\n",
       "      <td>1-216.jpg</td>\n",
       "      <td>[0.0154, 0.0, 0.0, 0.0, 0.0, 0.0, 0.0, 0.0, 0....</td>\n",
       "      <td>[0.0, 0.0, 0.0, 1.0]</td>\n",
       "      <td>3</td>\n",
       "      <td>1.0</td>\n",
       "    </tr>\n",
       "    <tr>\n",
       "      <th>1261</th>\n",
       "      <td>1261</td>\n",
       "      <td>13 - Copy (2).jpg</td>\n",
       "      <td>[0.3362, 0.0, 0.0, 0.0, 0.0, 0.0, 0.0, 0.1673,...</td>\n",
       "      <td>[0.0, 0.0, 1.0, 0.0]</td>\n",
       "      <td>2</td>\n",
       "      <td>1.0</td>\n",
       "    </tr>\n",
       "    <tr>\n",
       "      <th>...</th>\n",
       "      <td>...</td>\n",
       "      <td>...</td>\n",
       "      <td>...</td>\n",
       "      <td>...</td>\n",
       "      <td>...</td>\n",
       "      <td>...</td>\n",
       "    </tr>\n",
       "    <tr>\n",
       "      <th>39</th>\n",
       "      <td>39</td>\n",
       "      <td>1-04 (9).jpg</td>\n",
       "      <td>[0.0821, 0.0, 0.0, 0.006, 0.2262, 0.0, 0.0, 0....</td>\n",
       "      <td>[1.0, 0.0, 0.0, 0.0]</td>\n",
       "      <td>0</td>\n",
       "      <td>1.0</td>\n",
       "    </tr>\n",
       "    <tr>\n",
       "      <th>1949</th>\n",
       "      <td>1949</td>\n",
       "      <td>1-492.jpg</td>\n",
       "      <td>[0.0, 0.0, 0.0, 0.0, 0.1099, 0.0, 0.0, 0.0, 0....</td>\n",
       "      <td>[0.0, 0.0, 0.0, 1.0]</td>\n",
       "      <td>3</td>\n",
       "      <td>1.0</td>\n",
       "    </tr>\n",
       "    <tr>\n",
       "      <th>1560</th>\n",
       "      <td>1560</td>\n",
       "      <td>1-139.jpg</td>\n",
       "      <td>[0.0, 0.0, 0.0, 0.0, 0.0, 0.0, 0.0, 0.0, 0.0, ...</td>\n",
       "      <td>[0.0, 0.0, 0.0, 1.0]</td>\n",
       "      <td>3</td>\n",
       "      <td>1.0</td>\n",
       "    </tr>\n",
       "    <tr>\n",
       "      <th>992</th>\n",
       "      <td>992</td>\n",
       "      <td>1-209 (2).jpg</td>\n",
       "      <td>[0.0, 0.0, 0.0, 0.0, 0.0, 0.0, 0.0, 0.0, 0.0, ...</td>\n",
       "      <td>[0.0, 1.0, 0.0, 0.0]</td>\n",
       "      <td>1</td>\n",
       "      <td>1.0</td>\n",
       "    </tr>\n",
       "    <tr>\n",
       "      <th>1165</th>\n",
       "      <td>1165</td>\n",
       "      <td>1-42.jpg</td>\n",
       "      <td>[1.5381, 0.0, 0.0, 0.0, 0.0, 0.0, 0.2409, 0.0,...</td>\n",
       "      <td>[0.0, 1.0, 0.0, 0.0]</td>\n",
       "      <td>1</td>\n",
       "      <td>1.0</td>\n",
       "    </tr>\n",
       "  </tbody>\n",
       "</table>\n",
       "<p>399 rows × 6 columns</p>\n",
       "</div>"
      ],
      "text/plain": [
       "      index           file_names  \\\n",
       "307     307         1-29 (6).jpg   \n",
       "1778   1778            1-337.jpg   \n",
       "1339   1339  4 - Copy - Copy.jpg   \n",
       "1645   1645            1-216.jpg   \n",
       "1261   1261    13 - Copy (2).jpg   \n",
       "...     ...                  ...   \n",
       "39       39         1-04 (9).jpg   \n",
       "1949   1949            1-492.jpg   \n",
       "1560   1560            1-139.jpg   \n",
       "992     992        1-209 (2).jpg   \n",
       "1165   1165             1-42.jpg   \n",
       "\n",
       "                                                feature                 label  \\\n",
       "307   [0.0589, 0.0, 0.0, 0.019, 0.3036, 0.0, 0.0, 0....  [1.0, 0.0, 0.0, 0.0]   \n",
       "1778  [0.0807, 0.0, 0.0, 0.0, 0.0, 0.0, 0.0, 0.0, 0....  [0.0, 0.0, 0.0, 1.0]   \n",
       "1339  [0.0, 0.0, 0.0, 0.0, 0.0, 0.0, 0.0, 0.0, 0.0, ...  [0.0, 0.0, 1.0, 0.0]   \n",
       "1645  [0.0154, 0.0, 0.0, 0.0, 0.0, 0.0, 0.0, 0.0, 0....  [0.0, 0.0, 0.0, 1.0]   \n",
       "1261  [0.3362, 0.0, 0.0, 0.0, 0.0, 0.0, 0.0, 0.1673,...  [0.0, 0.0, 1.0, 0.0]   \n",
       "...                                                 ...                   ...   \n",
       "39    [0.0821, 0.0, 0.0, 0.006, 0.2262, 0.0, 0.0, 0....  [1.0, 0.0, 0.0, 0.0]   \n",
       "1949  [0.0, 0.0, 0.0, 0.0, 0.1099, 0.0, 0.0, 0.0, 0....  [0.0, 0.0, 0.0, 1.0]   \n",
       "1560  [0.0, 0.0, 0.0, 0.0, 0.0, 0.0, 0.0, 0.0, 0.0, ...  [0.0, 0.0, 0.0, 1.0]   \n",
       "992   [0.0, 0.0, 0.0, 0.0, 0.0, 0.0, 0.0, 0.0, 0.0, ...  [0.0, 1.0, 0.0, 0.0]   \n",
       "1165  [1.5381, 0.0, 0.0, 0.0, 0.0, 0.0, 0.2409, 0.0,...  [0.0, 1.0, 0.0, 0.0]   \n",
       "\n",
       "      int_label  assign  \n",
       "307           0     1.0  \n",
       "1778          3     1.0  \n",
       "1339          2     1.0  \n",
       "1645          3     1.0  \n",
       "1261          2     1.0  \n",
       "...         ...     ...  \n",
       "39            0     1.0  \n",
       "1949          3     1.0  \n",
       "1560          3     1.0  \n",
       "992           1     1.0  \n",
       "1165          1     1.0  \n",
       "\n",
       "[399 rows x 6 columns]"
      ]
     },
     "execution_count": 36,
     "metadata": {},
     "output_type": "execute_result"
    }
   ],
   "source": [
    "vgg_test_df"
   ]
  },
  {
   "cell_type": "code",
   "execution_count": 37,
   "metadata": {},
   "outputs": [],
   "source": [
    "test_result = {}\n",
    "test_result['filename'] = list(vgg_test_df['file_names'])\n",
    "#test_result['prediction_score'] = vgg_test_prediction_score\n",
    "test_result['predicted_label'] = vgg_test_predicted_label"
   ]
  },
  {
   "cell_type": "code",
   "execution_count": 38,
   "metadata": {},
   "outputs": [],
   "source": [
    "with open(\"vgg_result_lung_cancer.json\", \"w\") as outfile:\n",
    "  json.dump(test_result, outfile, indent=3, cls=NumpyArrayEncoder)"
   ]
  },
  {
   "cell_type": "code",
   "execution_count": null,
   "metadata": {},
   "outputs": [],
   "source": []
  },
  {
   "cell_type": "code",
   "execution_count": null,
   "metadata": {},
   "outputs": [],
   "source": []
  }
 ],
 "metadata": {
  "kernelspec": {
   "display_name": "Python 3.7.9 64-bit",
   "language": "python",
   "name": "python3"
  },
  "language_info": {
   "codemirror_mode": {
    "name": "ipython",
    "version": 3
   },
   "file_extension": ".py",
   "mimetype": "text/x-python",
   "name": "python",
   "nbconvert_exporter": "python",
   "pygments_lexer": "ipython3",
   "version": "3.7.9"
  },
  "orig_nbformat": 4,
  "vscode": {
   "interpreter": {
    "hash": "76ab9860aa67bcbf622fdb102e63207459bbb25b20412deafaf9e196d9ec0185"
   }
  }
 },
 "nbformat": 4,
 "nbformat_minor": 2
}
