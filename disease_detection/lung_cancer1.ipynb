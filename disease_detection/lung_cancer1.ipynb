{
 "cells": [
  {
   "cell_type": "code",
   "execution_count": 1,
   "metadata": {},
   "outputs": [],
   "source": [
    "import numpy as np\n",
    "import pandas as pd\n",
    "import tensorflow as tf\n",
    "from tensorflow import keras\n",
    "import os, json, pathlib, shutil, PIL\n",
    "import cv2\n",
    "import itertools"
   ]
  },
  {
   "cell_type": "code",
   "execution_count": 2,
   "metadata": {},
   "outputs": [],
   "source": [
    "from tensorflow.keras.preprocessing.image import ImageDataGenerator\n",
    "from tensorflow.keras.preprocessing import image"
   ]
  },
  {
   "cell_type": "markdown",
   "metadata": {},
   "source": [
    "https://www.kaggle.com/datasets/andrewmvd/lung-and-colon-cancer-histopathological-images"
   ]
  },
  {
   "cell_type": "code",
   "execution_count": 3,
   "metadata": {},
   "outputs": [],
   "source": [
    "from tensorflow.keras.applications.vgg16 import VGG16"
   ]
  },
  {
   "cell_type": "code",
   "execution_count": 4,
   "metadata": {},
   "outputs": [
    {
     "data": {
      "text/plain": [
       "\"resnet_layer = ResNet50V2(weights= 'imagenet', include_top= False, input_shape=(200, 200, 3))\\ninception_layer = InceptionV3(weights= 'imagenet', include_top= False, input_shape=(200, 200, 3))\\ndensenet_layer = DenseNet121(weights= 'imagenet', include_top= False, input_shape=(200, 200, 3))\\n\""
      ]
     },
     "execution_count": 4,
     "metadata": {},
     "output_type": "execute_result"
    }
   ],
   "source": [
    "vgg_layer = VGG16(weights= 'imagenet', include_top= False, input_shape=(224, 224, 3))"
   ]
  },
  {
   "cell_type": "code",
   "execution_count": 5,
   "metadata": {},
   "outputs": [
    {
     "name": "stdout",
     "output_type": "stream",
     "text": [
      "True\n"
     ]
    }
   ],
   "source": [
    "folder_dir = \"archive/lung_colon_image_set/lung_image_sets/\"\n",
    "file_dir = pathlib.Path(folder_dir)\n",
    "print(file_dir.exists())"
   ]
  },
  {
   "cell_type": "code",
   "execution_count": 6,
   "metadata": {},
   "outputs": [
    {
     "name": "stdout",
     "output_type": "stream",
     "text": [
      "15000\n"
     ]
    }
   ],
   "source": [
    "total_img_cnt = len(list(file_dir.glob(\"*/*.JPEG\")))\n",
    "print(total_img_cnt)"
   ]
  },
  {
   "cell_type": "code",
   "execution_count": 7,
   "metadata": {},
   "outputs": [
    {
     "name": "stdout",
     "output_type": "stream",
     "text": [
      "['lung_aca', 'lung_n', 'lung_scc']\n"
     ]
    }
   ],
   "source": [
    "class_names = [name for name in os.listdir(folder_dir) if os.path.isdir(os.path.join(folder_dir, name))]\n",
    "print(class_names)"
   ]
  },
  {
   "cell_type": "code",
   "execution_count": 8,
   "metadata": {},
   "outputs": [],
   "source": [
    "total_nums = []\n",
    "for class_name in class_names:\n",
    "  class_dir = pathlib.Path(folder_dir, class_name)\n",
    "  cl_length = len(list(class_dir.glob(\"*.JPEG\")))\n",
    "  train_ratio = int(cl_length * 0.7)\n",
    "  test_ratio = int(cl_length * 0.2)\n",
    "  valid_ratio = cl_length - (train_ratio + test_ratio)\n",
    "\n",
    "  nums = np.zeros(cl_length)\n",
    "  nums[:test_ratio] = 1\n",
    "  nums[test_ratio : test_ratio + valid_ratio] = 2\n",
    "  np.random.shuffle(nums)\n",
    "  total_nums.append(list(nums))\n",
    "\n",
    "merged_nums = list(itertools.chain.from_iterable(total_nums))"
   ]
  },
  {
   "cell_type": "code",
   "execution_count": 9,
   "metadata": {},
   "outputs": [],
   "source": [
    "datagen = ImageDataGenerator(rescale=1./255)\n",
    "batch_size = 300"
   ]
  },
  {
   "cell_type": "code",
   "execution_count": 10,
   "metadata": {},
   "outputs": [
    {
     "name": "stdout",
     "output_type": "stream",
     "text": [
      "Found 15000 images belonging to 3 classes.\n"
     ]
    }
   ],
   "source": [
    "generator = datagen.flow_from_directory(file_dir, target_size=(224,224), batch_size = batch_size, class_mode= 'categorical', shuffle=False)\n",
    "\n",
    "filepaths = []\n",
    "for filepath in generator.filepaths:\n",
    "  filepaths.append(filepath)\n",
    "  \n",
    "filenames = []\n",
    "for filename in generator.filenames:\n",
    "  filenames.append(filename)"
   ]
  },
  {
   "cell_type": "code",
   "execution_count": 12,
   "metadata": {},
   "outputs": [],
   "source": [
    "ground_truth_label = []\n",
    "file_names = []\n",
    "for file in filenames:\n",
    "  f = file.split(\"\\\\\")\n",
    "  ground_truth_label.append(f[0])\n",
    "  file_names.append(f[1])  \n",
    "\n",
    "index_list = list(range(0, total_img_cnt))"
   ]
  },
  {
   "cell_type": "code",
   "execution_count": 13,
   "metadata": {},
   "outputs": [],
   "source": [
    "def extract_features(generator, data_num, class_num, feature_shape, pretrained_model):\n",
    "  features = np.zeros(shape = feature_shape)\n",
    "  labels = np.zeros(shape=(data_num, class_num))\n",
    "  i = 0\n",
    "  for inputs_batch, labels_batch in generator:\n",
    "    features_batch = pretrained_model.predict(inputs_batch)\n",
    "    features[i * batch_size : (i+1) * batch_size] = features_batch\n",
    "    labels[i * batch_size : (i+1) * batch_size] = labels_batch\n",
    "    i += 1\n",
    "    if i * batch_size >= data_num:\n",
    "      break\n",
    "\n",
    "  return features, labels"
   ]
  },
  {
   "cell_type": "code",
   "execution_count": 14,
   "metadata": {},
   "outputs": [
    {
     "name": "stdout",
     "output_type": "stream",
     "text": [
      "final layer of VGG16 : <keras.layers.pooling.MaxPooling2D object at 0x000001C0E71A5BC8> and its shape : [None, 7, 7, 512]\n",
      "conv_base_shape :  [7, 7, 512]\n",
      "(15000, 7, 7, 512)\n",
      "25088\n"
     ]
    }
   ],
   "source": [
    "vgg_final_layer = list(vgg_layer.layers)[-1].output_shape\n",
    "vgg_final_layer = list(vgg_final_layer)\n",
    "print(\"final layer of VGG16 : \" +  str(list(vgg_layer.layers)[-1]) + \" and its shape : \" + str(vgg_final_layer))\n",
    "\n",
    "vgg_conv_layers = []\n",
    "for l in range(len(vgg_layer.layers)):\n",
    "  layer = vgg_layer.layers[l]\n",
    "  if 'Conv' not in layer.__class__.__name__:\n",
    "    continue\n",
    "  vgg_conv_layers.append((layer.name, layer.output.shape))\n",
    "\n",
    "vgg_conv_base_shape = []\n",
    "for i in vgg_final_layer:\n",
    "  if i != None:\n",
    "    vgg_conv_base_shape.append(i)\n",
    "print(\"conv_base_shape : \", vgg_conv_base_shape)\n",
    "\n",
    "vgg_feat_shape = tuple([total_img_cnt] + vgg_conv_base_shape)\n",
    "print(vgg_feat_shape)\n",
    "\n",
    "vgg_input_dimension = np.prod(vgg_conv_base_shape)\n",
    "print(vgg_input_dimension)"
   ]
  },
  {
   "cell_type": "code",
   "execution_count": 15,
   "metadata": {},
   "outputs": [],
   "source": [
    "vgg_features, vgg_labels = extract_features(generator, total_img_cnt, len(class_names), vgg_feat_shape, vgg_layer)"
   ]
  },
  {
   "cell_type": "code",
   "execution_count": 16,
   "metadata": {},
   "outputs": [],
   "source": [
    "from json import JSONEncoder\n",
    "class NumpyArrayEncoder(JSONEncoder):\n",
    "  def default(self, obj):\n",
    "    if isinstance(obj, np.ndarray):\n",
    "      return obj.tolist()\n",
    "    return JSONEncoder.default(self, obj)\n"
   ]
  },
  {
   "cell_type": "code",
   "execution_count": 17,
   "metadata": {},
   "outputs": [],
   "source": [
    "total_labels_int = []\n",
    "for idx in range(len(vgg_labels)):\n",
    "  total_labels_int.append(np.argmax(vgg_labels[idx]))"
   ]
  },
  {
   "cell_type": "code",
   "execution_count": 18,
   "metadata": {},
   "outputs": [],
   "source": [
    "vgg_features = np.reshape(vgg_features, (total_img_cnt, vgg_input_dimension))"
   ]
  },
  {
   "cell_type": "code",
   "execution_count": 20,
   "metadata": {},
   "outputs": [],
   "source": [
    "for idx in range(len(vgg_features)):\n",
    "  cur_fea = vgg_features[idx]\n",
    "  for j in range(len(cur_fea)):\n",
    "    if cur_fea[j] > 0.0:\n",
    "      cur_fea[j] = float(f\"{cur_fea[j]:.4f}\")\n"
   ]
  },
  {
   "cell_type": "code",
   "execution_count": 21,
   "metadata": {},
   "outputs": [],
   "source": [
    "total_feas = {\"features\": vgg_features, \"labels\" : vgg_labels}\n",
    "with open(\"vgg_extracted.json\", \"w\") as outfile:\n",
    "  json.dump(total_feas, outfile, cls=NumpyArrayEncoder)"
   ]
  },
  {
   "cell_type": "code",
   "execution_count": 22,
   "metadata": {},
   "outputs": [],
   "source": [
    "models = []"
   ]
  },
  {
   "cell_type": "code",
   "execution_count": 23,
   "metadata": {},
   "outputs": [],
   "source": [
    "# Add classifier on pre-trained model\n",
    "vgg_model = keras.models.Sequential()\n",
    "#vgg_model.add(keras.layers.Reshape((vgg_input_dimension,), input_shape = tuple(vgg_conv_base_shape)))\n",
    "vgg_model.add(keras.layers.Dense(512, activation='relu', input_dim = vgg_input_dimension))\n",
    "vgg_model.add(keras.layers.Dense(512, activation='relu'))\n",
    "vgg_model.add(keras.layers.Dense(len(class_names), activation = 'softmax'))\n",
    "vgg_model.compile(optimizer=keras.optimizers.Adam(), loss='categorical_crossentropy', metrics=['accuracy'])\n",
    "\n",
    "models.append(vgg_model)"
   ]
  },
  {
   "cell_type": "code",
   "execution_count": 24,
   "metadata": {},
   "outputs": [
    {
     "name": "stdout",
     "output_type": "stream",
     "text": [
      "10500\n",
      "3000\n",
      "1500\n"
     ]
    }
   ],
   "source": [
    "'''nums = np.zeros(total_img_cnt)\n",
    "train_ratio = int(total_img_cnt * 0.7)\n",
    "test_ratio = int(total_img_cnt * 0.2)\n",
    "valid_ratio = total_img_cnt - (train_ratio + test_ratio)\n",
    "\n",
    "print(train_ratio)\n",
    "print(test_ratio)\n",
    "print(valid_ratio)\n",
    "\n",
    "nums[:test_ratio] = 1\n",
    "nums[test_ratio:test_ratio + valid_ratio] = 2\n",
    "np.random.shuffle(nums)'''\n",
    "\n",
    "\n",
    "pmt_order = np.random.permutation(np.arange(total_img_cnt))"
   ]
  },
  {
   "cell_type": "code",
   "execution_count": 25,
   "metadata": {},
   "outputs": [],
   "source": [
    "vgg_data_df = pd.DataFrame({'index': index_list, 'file_names': file_names, 'feature' : list(vgg_features), 'label' : list(vgg_labels), 'int_label' : total_labels_int, 'assign' : merged_nums})\n"
   ]
  },
  {
   "cell_type": "code",
   "execution_count": 26,
   "metadata": {},
   "outputs": [
    {
     "data": {
      "text/html": [
       "<div>\n",
       "<style scoped>\n",
       "    .dataframe tbody tr th:only-of-type {\n",
       "        vertical-align: middle;\n",
       "    }\n",
       "\n",
       "    .dataframe tbody tr th {\n",
       "        vertical-align: top;\n",
       "    }\n",
       "\n",
       "    .dataframe thead th {\n",
       "        text-align: right;\n",
       "    }\n",
       "</style>\n",
       "<table border=\"1\" class=\"dataframe\">\n",
       "  <thead>\n",
       "    <tr style=\"text-align: right;\">\n",
       "      <th></th>\n",
       "      <th>index</th>\n",
       "      <th>file_names</th>\n",
       "      <th>feature</th>\n",
       "      <th>label</th>\n",
       "      <th>int_label</th>\n",
       "      <th>assign</th>\n",
       "    </tr>\n",
       "  </thead>\n",
       "  <tbody>\n",
       "    <tr>\n",
       "      <th>0</th>\n",
       "      <td>0</td>\n",
       "      <td>lungaca1.jpeg</td>\n",
       "      <td>[0.5731, 0.0, 1.0246, 0.0, 0.1702, 0.0, 0.0, 0...</td>\n",
       "      <td>[1.0, 0.0, 0.0]</td>\n",
       "      <td>0</td>\n",
       "      <td>0.0</td>\n",
       "    </tr>\n",
       "    <tr>\n",
       "      <th>1</th>\n",
       "      <td>1</td>\n",
       "      <td>lungaca10.jpeg</td>\n",
       "      <td>[0.2123, 0.0, 1.8726, 0.0, 0.3249, 0.0, 0.0, 0...</td>\n",
       "      <td>[1.0, 0.0, 0.0]</td>\n",
       "      <td>0</td>\n",
       "      <td>0.0</td>\n",
       "    </tr>\n",
       "    <tr>\n",
       "      <th>2</th>\n",
       "      <td>2</td>\n",
       "      <td>lungaca100.jpeg</td>\n",
       "      <td>[0.4521, 0.0, 0.1181, 0.0, 0.0, 0.0, 0.0, 0.06...</td>\n",
       "      <td>[1.0, 0.0, 0.0]</td>\n",
       "      <td>0</td>\n",
       "      <td>0.0</td>\n",
       "    </tr>\n",
       "    <tr>\n",
       "      <th>3</th>\n",
       "      <td>3</td>\n",
       "      <td>lungaca1000.jpeg</td>\n",
       "      <td>[0.0, 0.0, 1.6311, 0.0, 0.0, 0.0, 0.0, 0.0, 0....</td>\n",
       "      <td>[1.0, 0.0, 0.0]</td>\n",
       "      <td>0</td>\n",
       "      <td>0.0</td>\n",
       "    </tr>\n",
       "    <tr>\n",
       "      <th>4</th>\n",
       "      <td>4</td>\n",
       "      <td>lungaca1001.jpeg</td>\n",
       "      <td>[0.1413, 0.0, 0.0, 0.0, 0.0, 0.0, 0.0, 0.0731,...</td>\n",
       "      <td>[1.0, 0.0, 0.0]</td>\n",
       "      <td>0</td>\n",
       "      <td>1.0</td>\n",
       "    </tr>\n",
       "    <tr>\n",
       "      <th>...</th>\n",
       "      <td>...</td>\n",
       "      <td>...</td>\n",
       "      <td>...</td>\n",
       "      <td>...</td>\n",
       "      <td>...</td>\n",
       "      <td>...</td>\n",
       "    </tr>\n",
       "    <tr>\n",
       "      <th>14995</th>\n",
       "      <td>14995</td>\n",
       "      <td>lungscc995.jpeg</td>\n",
       "      <td>[0.2491, 0.0, 1.148, 0.1432, 0.0, 0.0, 0.0, 0....</td>\n",
       "      <td>[0.0, 0.0, 1.0]</td>\n",
       "      <td>2</td>\n",
       "      <td>1.0</td>\n",
       "    </tr>\n",
       "    <tr>\n",
       "      <th>14996</th>\n",
       "      <td>14996</td>\n",
       "      <td>lungscc996.jpeg</td>\n",
       "      <td>[0.2842, 0.0, 0.0703, 0.0, 0.0, 0.0, 0.0, 0.0,...</td>\n",
       "      <td>[0.0, 0.0, 1.0]</td>\n",
       "      <td>2</td>\n",
       "      <td>0.0</td>\n",
       "    </tr>\n",
       "    <tr>\n",
       "      <th>14997</th>\n",
       "      <td>14997</td>\n",
       "      <td>lungscc997.jpeg</td>\n",
       "      <td>[0.0, 0.0, 1.2031, 0.0, 0.0, 0.0, 0.0, 0.0, 0....</td>\n",
       "      <td>[0.0, 0.0, 1.0]</td>\n",
       "      <td>2</td>\n",
       "      <td>0.0</td>\n",
       "    </tr>\n",
       "    <tr>\n",
       "      <th>14998</th>\n",
       "      <td>14998</td>\n",
       "      <td>lungscc998.jpeg</td>\n",
       "      <td>[0.0, 0.0, 0.6882, 0.0, 0.0, 0.0, 0.0, 0.0, 0....</td>\n",
       "      <td>[0.0, 0.0, 1.0]</td>\n",
       "      <td>2</td>\n",
       "      <td>1.0</td>\n",
       "    </tr>\n",
       "    <tr>\n",
       "      <th>14999</th>\n",
       "      <td>14999</td>\n",
       "      <td>lungscc999.jpeg</td>\n",
       "      <td>[0.0, 0.0, 0.9241, 0.0, 0.0, 0.0, 0.0, 0.0, 0....</td>\n",
       "      <td>[0.0, 0.0, 1.0]</td>\n",
       "      <td>2</td>\n",
       "      <td>1.0</td>\n",
       "    </tr>\n",
       "  </tbody>\n",
       "</table>\n",
       "<p>15000 rows × 6 columns</p>\n",
       "</div>"
      ],
      "text/plain": [
       "       index        file_names  \\\n",
       "0          0     lungaca1.jpeg   \n",
       "1          1    lungaca10.jpeg   \n",
       "2          2   lungaca100.jpeg   \n",
       "3          3  lungaca1000.jpeg   \n",
       "4          4  lungaca1001.jpeg   \n",
       "...      ...               ...   \n",
       "14995  14995   lungscc995.jpeg   \n",
       "14996  14996   lungscc996.jpeg   \n",
       "14997  14997   lungscc997.jpeg   \n",
       "14998  14998   lungscc998.jpeg   \n",
       "14999  14999   lungscc999.jpeg   \n",
       "\n",
       "                                                 feature            label  \\\n",
       "0      [0.5731, 0.0, 1.0246, 0.0, 0.1702, 0.0, 0.0, 0...  [1.0, 0.0, 0.0]   \n",
       "1      [0.2123, 0.0, 1.8726, 0.0, 0.3249, 0.0, 0.0, 0...  [1.0, 0.0, 0.0]   \n",
       "2      [0.4521, 0.0, 0.1181, 0.0, 0.0, 0.0, 0.0, 0.06...  [1.0, 0.0, 0.0]   \n",
       "3      [0.0, 0.0, 1.6311, 0.0, 0.0, 0.0, 0.0, 0.0, 0....  [1.0, 0.0, 0.0]   \n",
       "4      [0.1413, 0.0, 0.0, 0.0, 0.0, 0.0, 0.0, 0.0731,...  [1.0, 0.0, 0.0]   \n",
       "...                                                  ...              ...   \n",
       "14995  [0.2491, 0.0, 1.148, 0.1432, 0.0, 0.0, 0.0, 0....  [0.0, 0.0, 1.0]   \n",
       "14996  [0.2842, 0.0, 0.0703, 0.0, 0.0, 0.0, 0.0, 0.0,...  [0.0, 0.0, 1.0]   \n",
       "14997  [0.0, 0.0, 1.2031, 0.0, 0.0, 0.0, 0.0, 0.0, 0....  [0.0, 0.0, 1.0]   \n",
       "14998  [0.0, 0.0, 0.6882, 0.0, 0.0, 0.0, 0.0, 0.0, 0....  [0.0, 0.0, 1.0]   \n",
       "14999  [0.0, 0.0, 0.9241, 0.0, 0.0, 0.0, 0.0, 0.0, 0....  [0.0, 0.0, 1.0]   \n",
       "\n",
       "       int_label  assign  \n",
       "0              0     0.0  \n",
       "1              0     0.0  \n",
       "2              0     0.0  \n",
       "3              0     0.0  \n",
       "4              0     1.0  \n",
       "...          ...     ...  \n",
       "14995          2     1.0  \n",
       "14996          2     0.0  \n",
       "14997          2     0.0  \n",
       "14998          2     1.0  \n",
       "14999          2     1.0  \n",
       "\n",
       "[15000 rows x 6 columns]"
      ]
     },
     "execution_count": 26,
     "metadata": {},
     "output_type": "execute_result"
    }
   ],
   "source": [
    "vgg_data_df"
   ]
  },
  {
   "cell_type": "code",
   "execution_count": 27,
   "metadata": {},
   "outputs": [],
   "source": [
    "data_df_sf = vgg_data_df.iloc[pmt_order]"
   ]
  },
  {
   "cell_type": "code",
   "execution_count": 28,
   "metadata": {},
   "outputs": [
    {
     "data": {
      "text/html": [
       "<div>\n",
       "<style scoped>\n",
       "    .dataframe tbody tr th:only-of-type {\n",
       "        vertical-align: middle;\n",
       "    }\n",
       "\n",
       "    .dataframe tbody tr th {\n",
       "        vertical-align: top;\n",
       "    }\n",
       "\n",
       "    .dataframe thead th {\n",
       "        text-align: right;\n",
       "    }\n",
       "</style>\n",
       "<table border=\"1\" class=\"dataframe\">\n",
       "  <thead>\n",
       "    <tr style=\"text-align: right;\">\n",
       "      <th></th>\n",
       "      <th>index</th>\n",
       "      <th>file_names</th>\n",
       "      <th>feature</th>\n",
       "      <th>label</th>\n",
       "      <th>int_label</th>\n",
       "      <th>assign</th>\n",
       "    </tr>\n",
       "  </thead>\n",
       "  <tbody>\n",
       "    <tr>\n",
       "      <th>6632</th>\n",
       "      <td>6632</td>\n",
       "      <td>lungn2468.jpeg</td>\n",
       "      <td>[0.0, 0.0, 0.0, 0.0, 0.0, 0.0, 0.0, 0.1523, 0....</td>\n",
       "      <td>[0.0, 1.0, 0.0]</td>\n",
       "      <td>1</td>\n",
       "      <td>0.0</td>\n",
       "    </tr>\n",
       "    <tr>\n",
       "      <th>12091</th>\n",
       "      <td>12091</td>\n",
       "      <td>lungscc2881.jpeg</td>\n",
       "      <td>[0.2156, 0.0, 0.9643, 0.0, 0.0, 0.0, 0.0, 0.0,...</td>\n",
       "      <td>[0.0, 0.0, 1.0]</td>\n",
       "      <td>2</td>\n",
       "      <td>0.0</td>\n",
       "    </tr>\n",
       "    <tr>\n",
       "      <th>10568</th>\n",
       "      <td>10568</td>\n",
       "      <td>lungscc151.jpeg</td>\n",
       "      <td>[0.6224, 0.0, 1.8294, 0.0, 0.0992, 0.0, 0.0, 0...</td>\n",
       "      <td>[0.0, 0.0, 1.0]</td>\n",
       "      <td>2</td>\n",
       "      <td>0.0</td>\n",
       "    </tr>\n",
       "    <tr>\n",
       "      <th>3000</th>\n",
       "      <td>3000</td>\n",
       "      <td>lungaca37.jpeg</td>\n",
       "      <td>[0.2925, 0.0, 1.5497, 0.0, 0.0, 0.0, 0.0, 0.10...</td>\n",
       "      <td>[1.0, 0.0, 0.0]</td>\n",
       "      <td>0</td>\n",
       "      <td>0.0</td>\n",
       "    </tr>\n",
       "    <tr>\n",
       "      <th>6290</th>\n",
       "      <td>6290</td>\n",
       "      <td>lungn216.jpeg</td>\n",
       "      <td>[0.7258, 0.0, 0.0, 0.0035, 0.0, 0.0, 0.0, 0.0,...</td>\n",
       "      <td>[0.0, 1.0, 0.0]</td>\n",
       "      <td>1</td>\n",
       "      <td>2.0</td>\n",
       "    </tr>\n",
       "  </tbody>\n",
       "</table>\n",
       "</div>"
      ],
      "text/plain": [
       "       index        file_names  \\\n",
       "6632    6632    lungn2468.jpeg   \n",
       "12091  12091  lungscc2881.jpeg   \n",
       "10568  10568   lungscc151.jpeg   \n",
       "3000    3000    lungaca37.jpeg   \n",
       "6290    6290     lungn216.jpeg   \n",
       "\n",
       "                                                 feature            label  \\\n",
       "6632   [0.0, 0.0, 0.0, 0.0, 0.0, 0.0, 0.0, 0.1523, 0....  [0.0, 1.0, 0.0]   \n",
       "12091  [0.2156, 0.0, 0.9643, 0.0, 0.0, 0.0, 0.0, 0.0,...  [0.0, 0.0, 1.0]   \n",
       "10568  [0.6224, 0.0, 1.8294, 0.0, 0.0992, 0.0, 0.0, 0...  [0.0, 0.0, 1.0]   \n",
       "3000   [0.2925, 0.0, 1.5497, 0.0, 0.0, 0.0, 0.0, 0.10...  [1.0, 0.0, 0.0]   \n",
       "6290   [0.7258, 0.0, 0.0, 0.0035, 0.0, 0.0, 0.0, 0.0,...  [0.0, 1.0, 0.0]   \n",
       "\n",
       "       int_label  assign  \n",
       "6632           1     0.0  \n",
       "12091          2     0.0  \n",
       "10568          2     0.0  \n",
       "3000           0     0.0  \n",
       "6290           1     2.0  "
      ]
     },
     "execution_count": 28,
     "metadata": {},
     "output_type": "execute_result"
    }
   ],
   "source": [
    "data_df_sf.head()"
   ]
  },
  {
   "cell_type": "code",
   "execution_count": 29,
   "metadata": {},
   "outputs": [],
   "source": [
    "vgg_train_df = data_df_sf[data_df_sf['assign'] == 0]\n",
    "vgg_test_df = data_df_sf[data_df_sf['assign'] == 1]\n",
    "vgg_valid_df = data_df_sf[data_df_sf['assign'] == 2]"
   ]
  },
  {
   "cell_type": "code",
   "execution_count": 30,
   "metadata": {},
   "outputs": [],
   "source": [
    "vgg_train_features = list(vgg_train_df['feature'])\n",
    "vgg_train_labels = list(vgg_train_df['label'])\n",
    "\n",
    "vgg_train_features = np.reshape(vgg_train_features, (len(vgg_train_df), vgg_input_dimension))\n",
    "vgg_train_labels = np.reshape(vgg_train_labels, (len(vgg_train_df), len(class_names)))\n",
    "\n",
    "vgg_test_features = list(vgg_test_df['feature'])\n",
    "vgg_test_labels = list(vgg_test_df['label'])\n",
    "\n",
    "vgg_test_features = np.reshape(vgg_test_features, (len(vgg_test_df), vgg_input_dimension))\n",
    "vgg_test_labels = np.reshape(vgg_test_labels, (len(vgg_test_df), len(class_names)))\n",
    "\n",
    "vgg_valid_features = list(vgg_valid_df['feature'])\n",
    "vgg_valid_labels = list(vgg_valid_df['label'])\n",
    "\n",
    "vgg_valid_features = np.reshape(vgg_valid_features, (len(vgg_valid_df), vgg_input_dimension))\n",
    "vgg_valid_labels = np.reshape(vgg_valid_labels, (len(vgg_valid_df), len(class_names)))"
   ]
  },
  {
   "cell_type": "code",
   "execution_count": 31,
   "metadata": {},
   "outputs": [
    {
     "name": "stdout",
     "output_type": "stream",
     "text": [
      "Epoch 1/15\n",
      "35/35 [==============================] - 9s 146ms/step - loss: 1.0723 - accuracy: 0.7809 - val_loss: 0.1528 - val_accuracy: 0.9387\n",
      "Epoch 2/15\n",
      "35/35 [==============================] - 4s 127ms/step - loss: 0.1166 - accuracy: 0.9550 - val_loss: 0.1063 - val_accuracy: 0.9627\n",
      "Epoch 3/15\n",
      "35/35 [==============================] - 4s 125ms/step - loss: 0.0754 - accuracy: 0.9733 - val_loss: 0.0785 - val_accuracy: 0.9720\n",
      "Epoch 4/15\n",
      "35/35 [==============================] - 4s 128ms/step - loss: 0.0546 - accuracy: 0.9808 - val_loss: 0.0652 - val_accuracy: 0.9760\n",
      "Epoch 5/15\n",
      "35/35 [==============================] - 4s 128ms/step - loss: 0.0372 - accuracy: 0.9891 - val_loss: 0.0592 - val_accuracy: 0.9800\n",
      "Epoch 6/15\n",
      "35/35 [==============================] - 4s 127ms/step - loss: 0.0317 - accuracy: 0.9892 - val_loss: 0.0527 - val_accuracy: 0.9833\n",
      "Epoch 7/15\n",
      "35/35 [==============================] - 5s 132ms/step - loss: 0.0141 - accuracy: 0.9975 - val_loss: 0.0486 - val_accuracy: 0.9867\n",
      "Epoch 8/15\n",
      "35/35 [==============================] - 5s 135ms/step - loss: 0.0097 - accuracy: 0.9984 - val_loss: 0.0557 - val_accuracy: 0.9860\n",
      "Epoch 9/15\n",
      "35/35 [==============================] - 5s 137ms/step - loss: 0.0073 - accuracy: 0.9993 - val_loss: 0.0520 - val_accuracy: 0.9853\n",
      "Epoch 10/15\n",
      "35/35 [==============================] - 5s 137ms/step - loss: 0.0043 - accuracy: 0.9998 - val_loss: 0.0562 - val_accuracy: 0.9860\n",
      "Epoch 11/15\n",
      "35/35 [==============================] - 5s 140ms/step - loss: 0.0030 - accuracy: 0.9998 - val_loss: 0.0535 - val_accuracy: 0.9860\n",
      "Epoch 12/15\n",
      "35/35 [==============================] - 5s 141ms/step - loss: 0.0016 - accuracy: 1.0000 - val_loss: 0.0538 - val_accuracy: 0.9860\n",
      "Epoch 13/15\n",
      "35/35 [==============================] - 5s 142ms/step - loss: 0.0011 - accuracy: 1.0000 - val_loss: 0.0559 - val_accuracy: 0.9853\n",
      "Epoch 14/15\n",
      "35/35 [==============================] - 5s 154ms/step - loss: 8.1214e-04 - accuracy: 1.0000 - val_loss: 0.0566 - val_accuracy: 0.9853\n",
      "Epoch 15/15\n",
      "35/35 [==============================] - 5s 145ms/step - loss: 6.0375e-04 - accuracy: 1.0000 - val_loss: 0.0582 - val_accuracy: 0.9867\n"
     ]
    }
   ],
   "source": [
    "vgg_train_history = vgg_model.fit(vgg_train_features, vgg_train_labels, epochs = 15, batch_size = batch_size, validation_data = (vgg_valid_features, vgg_valid_labels))"
   ]
  },
  {
   "cell_type": "code",
   "execution_count": 32,
   "metadata": {},
   "outputs": [
    {
     "name": "stdout",
     "output_type": "stream",
     "text": [
      "94/94 [==============================] - 1s 12ms/step - loss: 0.0443 - accuracy: 0.9853\n"
     ]
    }
   ],
   "source": [
    "vgg_loss, vgg_acc = vgg_model.evaluate(vgg_test_features, vgg_test_labels)"
   ]
  },
  {
   "cell_type": "code",
   "execution_count": 33,
   "metadata": {},
   "outputs": [],
   "source": [
    "vgg_test_prediction_score = vgg_model.predict(vgg_test_features)"
   ]
  },
  {
   "cell_type": "code",
   "execution_count": 34,
   "metadata": {},
   "outputs": [],
   "source": [
    "vgg_test_predicted_label = np.argmax(vgg_test_prediction_score, axis= -1)"
   ]
  },
  {
   "cell_type": "code",
   "execution_count": 35,
   "metadata": {},
   "outputs": [
    {
     "data": {
      "text/html": [
       "<div>\n",
       "<style scoped>\n",
       "    .dataframe tbody tr th:only-of-type {\n",
       "        vertical-align: middle;\n",
       "    }\n",
       "\n",
       "    .dataframe tbody tr th {\n",
       "        vertical-align: top;\n",
       "    }\n",
       "\n",
       "    .dataframe thead th {\n",
       "        text-align: right;\n",
       "    }\n",
       "</style>\n",
       "<table border=\"1\" class=\"dataframe\">\n",
       "  <thead>\n",
       "    <tr style=\"text-align: right;\">\n",
       "      <th></th>\n",
       "      <th>index</th>\n",
       "      <th>file_names</th>\n",
       "      <th>feature</th>\n",
       "      <th>label</th>\n",
       "      <th>int_label</th>\n",
       "      <th>assign</th>\n",
       "    </tr>\n",
       "  </thead>\n",
       "  <tbody>\n",
       "    <tr>\n",
       "      <th>10471</th>\n",
       "      <td>10471</td>\n",
       "      <td>lungscc1422.jpeg</td>\n",
       "      <td>[0.3556, 0.0, 1.4198, 0.0, 0.0, 0.0, 0.0, 0.0,...</td>\n",
       "      <td>[0.0, 0.0, 1.0]</td>\n",
       "      <td>2</td>\n",
       "      <td>1.0</td>\n",
       "    </tr>\n",
       "    <tr>\n",
       "      <th>4894</th>\n",
       "      <td>4894</td>\n",
       "      <td>lungaca903.jpeg</td>\n",
       "      <td>[0.5033, 0.0, 1.7585, 0.0, 0.0582, 0.0, 0.0, 0...</td>\n",
       "      <td>[1.0, 0.0, 0.0]</td>\n",
       "      <td>0</td>\n",
       "      <td>1.0</td>\n",
       "    </tr>\n",
       "    <tr>\n",
       "      <th>3329</th>\n",
       "      <td>3329</td>\n",
       "      <td>lungaca3996.jpeg</td>\n",
       "      <td>[0.3309, 0.0, 1.9817, 0.0, 0.1838, 0.0, 0.0, 0...</td>\n",
       "      <td>[1.0, 0.0, 0.0]</td>\n",
       "      <td>0</td>\n",
       "      <td>1.0</td>\n",
       "    </tr>\n",
       "    <tr>\n",
       "      <th>9620</th>\n",
       "      <td>9620</td>\n",
       "      <td>lungn657.jpeg</td>\n",
       "      <td>[0.2525, 0.0, 0.2764, 0.0, 0.0004, 0.0, 0.0, 0...</td>\n",
       "      <td>[0.0, 1.0, 0.0]</td>\n",
       "      <td>1</td>\n",
       "      <td>1.0</td>\n",
       "    </tr>\n",
       "    <tr>\n",
       "      <th>11231</th>\n",
       "      <td>11231</td>\n",
       "      <td>lungscc2106.jpeg</td>\n",
       "      <td>[0.0, 0.0, 0.8669, 0.0, 0.0, 0.0, 0.0, 0.0, 0....</td>\n",
       "      <td>[0.0, 0.0, 1.0]</td>\n",
       "      <td>2</td>\n",
       "      <td>1.0</td>\n",
       "    </tr>\n",
       "    <tr>\n",
       "      <th>...</th>\n",
       "      <td>...</td>\n",
       "      <td>...</td>\n",
       "      <td>...</td>\n",
       "      <td>...</td>\n",
       "      <td>...</td>\n",
       "      <td>...</td>\n",
       "    </tr>\n",
       "    <tr>\n",
       "      <th>1308</th>\n",
       "      <td>1308</td>\n",
       "      <td>lungaca2176.jpeg</td>\n",
       "      <td>[0.9655, 0.0, 1.7963, 0.0, 0.0, 0.0, 0.0, 0.11...</td>\n",
       "      <td>[1.0, 0.0, 0.0]</td>\n",
       "      <td>0</td>\n",
       "      <td>1.0</td>\n",
       "    </tr>\n",
       "    <tr>\n",
       "      <th>8362</th>\n",
       "      <td>8362</td>\n",
       "      <td>lungn4024.jpeg</td>\n",
       "      <td>[0.601, 0.0, 0.0, 0.0, 0.0, 0.0, 0.0, 0.0, 0.0...</td>\n",
       "      <td>[0.0, 1.0, 0.0]</td>\n",
       "      <td>1</td>\n",
       "      <td>1.0</td>\n",
       "    </tr>\n",
       "    <tr>\n",
       "      <th>494</th>\n",
       "      <td>494</td>\n",
       "      <td>lungaca1443.jpeg</td>\n",
       "      <td>[0.2403, 0.0, 2.5408, 0.0, 0.3922, 0.0, 0.0, 0...</td>\n",
       "      <td>[1.0, 0.0, 0.0]</td>\n",
       "      <td>0</td>\n",
       "      <td>1.0</td>\n",
       "    </tr>\n",
       "    <tr>\n",
       "      <th>3946</th>\n",
       "      <td>3946</td>\n",
       "      <td>lungaca4550.jpeg</td>\n",
       "      <td>[0.394, 0.0, 0.1738, 0.0, 0.0, 0.0, 0.0, 0.033...</td>\n",
       "      <td>[1.0, 0.0, 0.0]</td>\n",
       "      <td>0</td>\n",
       "      <td>1.0</td>\n",
       "    </tr>\n",
       "    <tr>\n",
       "      <th>5099</th>\n",
       "      <td>5099</td>\n",
       "      <td>lungn1088.jpeg</td>\n",
       "      <td>[0.2819, 0.0, 1.7686, 0.1598, 0.0, 0.0, 0.0, 0...</td>\n",
       "      <td>[0.0, 1.0, 0.0]</td>\n",
       "      <td>1</td>\n",
       "      <td>1.0</td>\n",
       "    </tr>\n",
       "  </tbody>\n",
       "</table>\n",
       "<p>3000 rows × 6 columns</p>\n",
       "</div>"
      ],
      "text/plain": [
       "       index        file_names  \\\n",
       "10471  10471  lungscc1422.jpeg   \n",
       "4894    4894   lungaca903.jpeg   \n",
       "3329    3329  lungaca3996.jpeg   \n",
       "9620    9620     lungn657.jpeg   \n",
       "11231  11231  lungscc2106.jpeg   \n",
       "...      ...               ...   \n",
       "1308    1308  lungaca2176.jpeg   \n",
       "8362    8362    lungn4024.jpeg   \n",
       "494      494  lungaca1443.jpeg   \n",
       "3946    3946  lungaca4550.jpeg   \n",
       "5099    5099    lungn1088.jpeg   \n",
       "\n",
       "                                                 feature            label  \\\n",
       "10471  [0.3556, 0.0, 1.4198, 0.0, 0.0, 0.0, 0.0, 0.0,...  [0.0, 0.0, 1.0]   \n",
       "4894   [0.5033, 0.0, 1.7585, 0.0, 0.0582, 0.0, 0.0, 0...  [1.0, 0.0, 0.0]   \n",
       "3329   [0.3309, 0.0, 1.9817, 0.0, 0.1838, 0.0, 0.0, 0...  [1.0, 0.0, 0.0]   \n",
       "9620   [0.2525, 0.0, 0.2764, 0.0, 0.0004, 0.0, 0.0, 0...  [0.0, 1.0, 0.0]   \n",
       "11231  [0.0, 0.0, 0.8669, 0.0, 0.0, 0.0, 0.0, 0.0, 0....  [0.0, 0.0, 1.0]   \n",
       "...                                                  ...              ...   \n",
       "1308   [0.9655, 0.0, 1.7963, 0.0, 0.0, 0.0, 0.0, 0.11...  [1.0, 0.0, 0.0]   \n",
       "8362   [0.601, 0.0, 0.0, 0.0, 0.0, 0.0, 0.0, 0.0, 0.0...  [0.0, 1.0, 0.0]   \n",
       "494    [0.2403, 0.0, 2.5408, 0.0, 0.3922, 0.0, 0.0, 0...  [1.0, 0.0, 0.0]   \n",
       "3946   [0.394, 0.0, 0.1738, 0.0, 0.0, 0.0, 0.0, 0.033...  [1.0, 0.0, 0.0]   \n",
       "5099   [0.2819, 0.0, 1.7686, 0.1598, 0.0, 0.0, 0.0, 0...  [0.0, 1.0, 0.0]   \n",
       "\n",
       "       int_label  assign  \n",
       "10471          2     1.0  \n",
       "4894           0     1.0  \n",
       "3329           0     1.0  \n",
       "9620           1     1.0  \n",
       "11231          2     1.0  \n",
       "...          ...     ...  \n",
       "1308           0     1.0  \n",
       "8362           1     1.0  \n",
       "494            0     1.0  \n",
       "3946           0     1.0  \n",
       "5099           1     1.0  \n",
       "\n",
       "[3000 rows x 6 columns]"
      ]
     },
     "execution_count": 35,
     "metadata": {},
     "output_type": "execute_result"
    }
   ],
   "source": [
    "vgg_test_df"
   ]
  },
  {
   "cell_type": "code",
   "execution_count": 36,
   "metadata": {},
   "outputs": [],
   "source": [
    "test_result = {}\n",
    "test_result['filename'] = list(vgg_test_df['file_names'])\n",
    "#test_result['prediction_score'] = vgg_test_prediction_score\n",
    "test_result['predicted_label'] = vgg_test_predicted_label"
   ]
  },
  {
   "cell_type": "code",
   "execution_count": null,
   "metadata": {},
   "outputs": [],
   "source": [
    "with open(\"vgg_result.json\", \"w\") as outfile:\n",
    "  json.dump(test_result, outfile, indent=3, cls=NumpyArrayEncoder)"
   ]
  },
  {
   "cell_type": "code",
   "execution_count": null,
   "metadata": {},
   "outputs": [],
   "source": []
  }
 ],
 "metadata": {
  "kernelspec": {
   "display_name": "Python 3.7.9 64-bit",
   "language": "python",
   "name": "python3"
  },
  "language_info": {
   "codemirror_mode": {
    "name": "ipython",
    "version": 3
   },
   "file_extension": ".py",
   "mimetype": "text/x-python",
   "name": "python",
   "nbconvert_exporter": "python",
   "pygments_lexer": "ipython3",
   "version": "3.7.9"
  },
  "orig_nbformat": 4,
  "vscode": {
   "interpreter": {
    "hash": "76ab9860aa67bcbf622fdb102e63207459bbb25b20412deafaf9e196d9ec0185"
   }
  }
 },
 "nbformat": 4,
 "nbformat_minor": 2
}
